{
 "cells": [
  {
   "cell_type": "code",
   "execution_count": 1,
   "metadata": {},
   "outputs": [
    {
     "name": "stderr",
     "output_type": "stream",
     "text": [
      "mv: cannot overwrite non-directory '/mnt/z/onomaai/data/psd/다온/그 던전의 S급 시한부 영애/line_psd//32/1.psd' with directory '/mnt/z/onomaai/data/psd/다온/그 던전의 S급 시한부 영애/line_psd//32/0.psd'\n",
      "mv: '/mnt/z/onomaai/data/psd/다온/그 던전의 S급 시한부 영애/line_psd//6/1.psd' and '/mnt/z/onomaai/data/psd/다온/그 던전의 S급 시한부 영애/line_psd//6/1.psd' are the same file\n",
      "mv: '/mnt/z/onomaai/data/psd/다온/그 던전의 S급 시한부 영애/line_psd//6/2.psd' and '/mnt/z/onomaai/data/psd/다온/그 던전의 S급 시한부 영애/line_psd//6/2.psd' are the same file\n",
      "mv: '/mnt/z/onomaai/data/psd/다온/그 던전의 S급 시한부 영애/line_psd//6/3.psd' and '/mnt/z/onomaai/data/psd/다온/그 던전의 S급 시한부 영애/line_psd//6/3.psd' are the same file\n",
      "mv: '/mnt/z/onomaai/data/psd/다온/그 던전의 S급 시한부 영애/line_psd//6/4.psd' and '/mnt/z/onomaai/data/psd/다온/그 던전의 S급 시한부 영애/line_psd//6/4.psd' are the same file\n",
      "mv: '/mnt/z/onomaai/data/psd/다온/그 던전의 S급 시한부 영애/line_psd//6/5.psd' and '/mnt/z/onomaai/data/psd/다온/그 던전의 S급 시한부 영애/line_psd//6/5.psd' are the same file\n",
      "mv: '/mnt/z/onomaai/data/psd/다온/그 던전의 S급 시한부 영애/line_psd//6/6.psd' and '/mnt/z/onomaai/data/psd/다온/그 던전의 S급 시한부 영애/line_psd//6/6.psd' are the same file\n",
      "mv: '/mnt/z/onomaai/data/psd/다온/그 던전의 S급 시한부 영애/line_psd//6/7.psd' and '/mnt/z/onomaai/data/psd/다온/그 던전의 S급 시한부 영애/line_psd//6/7.psd' are the same file\n",
      "mv: '/mnt/z/onomaai/data/psd/다온/그 던전의 S급 시한부 영애/line_psd//6/8.psd' and '/mnt/z/onomaai/data/psd/다온/그 던전의 S급 시한부 영애/line_psd//6/8.psd' are the same file\n",
      "mv: '/mnt/z/onomaai/data/psd/다온/그 던전의 S급 시한부 영애/line_psd//6/9.psd' and '/mnt/z/onomaai/data/psd/다온/그 던전의 S급 시한부 영애/line_psd//6/9.psd' are the same file\n",
      "mv: '/mnt/z/onomaai/data/psd/다온/그 던전의 S급 시한부 영애/line_psd//7/1.psd' and '/mnt/z/onomaai/data/psd/다온/그 던전의 S급 시한부 영애/line_psd//7/1.psd' are the same file\n",
      "mv: '/mnt/z/onomaai/data/psd/다온/그 던전의 S급 시한부 영애/line_psd//8/1.psd' and '/mnt/z/onomaai/data/psd/다온/그 던전의 S급 시한부 영애/line_psd//8/1.psd' are the same file\n",
      "mv: '/mnt/z/onomaai/data/psd/다온/그 던전의 S급 시한부 영애/line_psd//9/1.psd' and '/mnt/z/onomaai/data/psd/다온/그 던전의 S급 시한부 영애/line_psd//9/1.psd' are the same file\n",
      "mv: '/mnt/z/onomaai/data/psd/다온/그 던전의 S급 시한부 영애/line_psd//9/2.psd' and '/mnt/z/onomaai/data/psd/다온/그 던전의 S급 시한부 영애/line_psd//9/2.psd' are the same file\n",
      "mv: '/mnt/z/onomaai/data/psd/다온/그 던전의 S급 시한부 영애/line_psd//9/3.psd' and '/mnt/z/onomaai/data/psd/다온/그 던전의 S급 시한부 영애/line_psd//9/3.psd' are the same file\n",
      "mv: '/mnt/z/onomaai/data/psd/다온/그 던전의 S급 시한부 영애/line_psd//9/4.psd' and '/mnt/z/onomaai/data/psd/다온/그 던전의 S급 시한부 영애/line_psd//9/4.psd' are the same file\n",
      "mv: '/mnt/z/onomaai/data/psd/다온/그 던전의 S급 시한부 영애/line_psd//9/5.psd' and '/mnt/z/onomaai/data/psd/다온/그 던전의 S급 시한부 영애/line_psd//9/5.psd' are the same file\n",
      "mv: '/mnt/z/onomaai/data/psd/다온/그 던전의 S급 시한부 영애/line_psd//9/7.psd' and '/mnt/z/onomaai/data/psd/다온/그 던전의 S급 시한부 영애/line_psd//9/7.psd' are the same file\n",
      "mv: '/mnt/z/onomaai/data/psd/다온/그 던전의 S급 시한부 영애/line_psd//9/8.psd' and '/mnt/z/onomaai/data/psd/다온/그 던전의 S급 시한부 영애/line_psd//9/8.psd' are the same file\n",
      "mv: '/mnt/z/onomaai/data/psd/다온/그 던전의 S급 시한부 영애/line_psd//9/9.psd' and '/mnt/z/onomaai/data/psd/다온/그 던전의 S급 시한부 영애/line_psd//9/9.psd' are the same file\n"
     ]
    }
   ],
   "source": [
    "path = \"/mnt/z/onomaai/data/psd/다온/그 던전의 S급 시한부 영애/line_psd/\"\n",
    "\n",
    "import os \n",
    "\n",
    "file_list = os.listdir(path)\n",
    "\n",
    "\"\"\"\n",
    "for idx, file in enumerate(file_list):\n",
    "    os.system(f\"mv \\\"{path}{file}\\\" \\\"{path}{idx}\\\"\")\n",
    "\"\"\"\n",
    "\n",
    "for file in file_list:\n",
    "    page_list = os.listdir(f\"{path}/{file}\")\n",
    "    for idx, page in enumerate(page_list):\n",
    "        os.system(f\"mv \\\"{path}{file}/{page}\\\" \\\"{path}{file}/{idx + 1}.psd\\\"\")"
   ]
  },
  {
   "cell_type": "code",
   "execution_count": 6,
   "metadata": {},
   "outputs": [
    {
     "ename": "ValueError",
     "evalue": "17224 is not a valid ColorMode",
     "output_type": "error",
     "traceback": [
      "\u001b[0;31m---------------------------------------------------------------------------\u001b[0m",
      "\u001b[0;31mValueError\u001b[0m                                Traceback (most recent call last)",
      "Cell \u001b[0;32mIn[6], line 3\u001b[0m\n\u001b[1;32m      1\u001b[0m \u001b[38;5;28;01mfrom\u001b[39;00m \u001b[38;5;21;01mpsd_tools\u001b[39;00m \u001b[38;5;28;01mimport\u001b[39;00m PSDImage\n\u001b[0;32m----> 3\u001b[0m psd \u001b[38;5;241m=\u001b[39m \u001b[43mPSDImage\u001b[49m\u001b[38;5;241;43m.\u001b[39;49m\u001b[43mopen\u001b[49m\u001b[43m(\u001b[49m\u001b[38;5;124;43m\"\u001b[39;49m\u001b[38;5;124;43m/mnt/z/onomaai/data/psd/다온/그 던전의 S급 시한부 영애/line_psd/032/그 던전의 S급 시한부 영애_32화_001.clip\u001b[39;49m\u001b[38;5;124;43m\"\u001b[39;49m\u001b[43m)\u001b[49m\n",
      "File \u001b[0;32m~/anaconda3/envs/psd-converter/lib/python3.10/site-packages/psd_tools/api/psd_image.py:98\u001b[0m, in \u001b[0;36mPSDImage.open\u001b[0;34m(cls, fp)\u001b[0m\n\u001b[1;32m     96\u001b[0m \u001b[38;5;28;01melse\u001b[39;00m:\n\u001b[1;32m     97\u001b[0m     \u001b[38;5;28;01mwith\u001b[39;00m \u001b[38;5;28mopen\u001b[39m(fp, \u001b[38;5;124m'\u001b[39m\u001b[38;5;124mrb\u001b[39m\u001b[38;5;124m'\u001b[39m) \u001b[38;5;28;01mas\u001b[39;00m f:\n\u001b[0;32m---> 98\u001b[0m         \u001b[38;5;28mself\u001b[39m \u001b[38;5;241m=\u001b[39m \u001b[38;5;28mcls\u001b[39m(\u001b[43mPSD\u001b[49m\u001b[38;5;241;43m.\u001b[39;49m\u001b[43mread\u001b[49m\u001b[43m(\u001b[49m\u001b[43mf\u001b[49m\u001b[43m)\u001b[49m)\n\u001b[1;32m     99\u001b[0m \u001b[38;5;28;01mreturn\u001b[39;00m \u001b[38;5;28mself\u001b[39m\n",
      "File \u001b[0;32m~/anaconda3/envs/psd-converter/lib/python3.10/site-packages/psd_tools/psd/__init__.py:65\u001b[0m, in \u001b[0;36mPSD.read\u001b[0;34m(cls, fp, encoding, **kwargs)\u001b[0m\n\u001b[1;32m     58\u001b[0m \u001b[38;5;129m@classmethod\u001b[39m\n\u001b[1;32m     59\u001b[0m \u001b[38;5;28;01mdef\u001b[39;00m \u001b[38;5;21mread\u001b[39m(\u001b[38;5;28mcls\u001b[39m, fp, encoding\u001b[38;5;241m=\u001b[39m\u001b[38;5;124m'\u001b[39m\u001b[38;5;124mmacroman\u001b[39m\u001b[38;5;124m'\u001b[39m, \u001b[38;5;241m*\u001b[39m\u001b[38;5;241m*\u001b[39mkwargs):\n\u001b[1;32m     60\u001b[0m \u001b[38;5;250m    \u001b[39m\u001b[38;5;124;03m\"\"\"Read the element from a file-like object.\u001b[39;00m\n\u001b[1;32m     61\u001b[0m \n\u001b[1;32m     62\u001b[0m \u001b[38;5;124;03m    :param fp: file-like object\u001b[39;00m\n\u001b[1;32m     63\u001b[0m \u001b[38;5;124;03m    :rtype: PSD\u001b[39;00m\n\u001b[1;32m     64\u001b[0m \u001b[38;5;124;03m    \"\"\"\u001b[39;00m\n\u001b[0;32m---> 65\u001b[0m     header \u001b[38;5;241m=\u001b[39m \u001b[43mFileHeader\u001b[49m\u001b[38;5;241;43m.\u001b[39;49m\u001b[43mread\u001b[49m\u001b[43m(\u001b[49m\u001b[43mfp\u001b[49m\u001b[43m)\u001b[49m\n\u001b[1;32m     66\u001b[0m     logger\u001b[38;5;241m.\u001b[39mdebug(\u001b[38;5;124m'\u001b[39m\u001b[38;5;124mread \u001b[39m\u001b[38;5;132;01m%s\u001b[39;00m\u001b[38;5;124m'\u001b[39m \u001b[38;5;241m%\u001b[39m header)\n\u001b[1;32m     67\u001b[0m     \u001b[38;5;28;01mreturn\u001b[39;00m \u001b[38;5;28mcls\u001b[39m(\n\u001b[1;32m     68\u001b[0m         header,\n\u001b[1;32m     69\u001b[0m         ColorModeData\u001b[38;5;241m.\u001b[39mread(fp),\n\u001b[0;32m   (...)\u001b[0m\n\u001b[1;32m     72\u001b[0m         ImageData\u001b[38;5;241m.\u001b[39mread(fp),\n\u001b[1;32m     73\u001b[0m     )\n",
      "File \u001b[0;32m~/anaconda3/envs/psd-converter/lib/python3.10/site-packages/psd_tools/psd/header.py:80\u001b[0m, in \u001b[0;36mFileHeader.read\u001b[0;34m(cls, fp)\u001b[0m\n\u001b[1;32m     73\u001b[0m \u001b[38;5;129m@classmethod\u001b[39m\n\u001b[1;32m     74\u001b[0m \u001b[38;5;28;01mdef\u001b[39;00m \u001b[38;5;21mread\u001b[39m(\u001b[38;5;28mcls\u001b[39m, fp):\n\u001b[1;32m     75\u001b[0m \u001b[38;5;250m    \u001b[39m\u001b[38;5;124;03m\"\"\"Read the element from a file-like object.\u001b[39;00m\n\u001b[1;32m     76\u001b[0m \n\u001b[1;32m     77\u001b[0m \u001b[38;5;124;03m    :param fp: file-like object\u001b[39;00m\n\u001b[1;32m     78\u001b[0m \u001b[38;5;124;03m    :rtype: FileHeader\u001b[39;00m\n\u001b[1;32m     79\u001b[0m \u001b[38;5;124;03m    \"\"\"\u001b[39;00m\n\u001b[0;32m---> 80\u001b[0m     \u001b[38;5;28;01mreturn\u001b[39;00m \u001b[38;5;28;43mcls\u001b[39;49m\u001b[43m(\u001b[49m\u001b[38;5;241;43m*\u001b[39;49m\u001b[43mread_fmt\u001b[49m\u001b[43m(\u001b[49m\u001b[38;5;28;43mcls\u001b[39;49m\u001b[38;5;241;43m.\u001b[39;49m\u001b[43m_FORMAT\u001b[49m\u001b[43m,\u001b[49m\u001b[43m \u001b[49m\u001b[43mfp\u001b[49m\u001b[43m)\u001b[49m\u001b[43m)\u001b[49m\n",
      "File \u001b[0;32m<attrs generated init psd_tools.psd.header.FileHeader>:8\u001b[0m, in \u001b[0;36m__init__\u001b[0;34m(self, signature, version, channels, height, width, depth, color_mode)\u001b[0m\n\u001b[1;32m      6\u001b[0m \u001b[38;5;28mself\u001b[39m\u001b[38;5;241m.\u001b[39mwidth \u001b[38;5;241m=\u001b[39m width\n\u001b[1;32m      7\u001b[0m \u001b[38;5;28mself\u001b[39m\u001b[38;5;241m.\u001b[39mdepth \u001b[38;5;241m=\u001b[39m depth\n\u001b[0;32m----> 8\u001b[0m \u001b[38;5;28mself\u001b[39m\u001b[38;5;241m.\u001b[39mcolor_mode \u001b[38;5;241m=\u001b[39m \u001b[43m__attr_converter_color_mode\u001b[49m\u001b[43m(\u001b[49m\u001b[43mcolor_mode\u001b[49m\u001b[43m)\u001b[49m\n\u001b[1;32m      9\u001b[0m \u001b[38;5;28;01mif\u001b[39;00m _config\u001b[38;5;241m.\u001b[39m_run_validators \u001b[38;5;129;01mis\u001b[39;00m \u001b[38;5;28;01mTrue\u001b[39;00m:\n\u001b[1;32m     10\u001b[0m     __attr_validator_signature(\u001b[38;5;28mself\u001b[39m, __attr_signature, \u001b[38;5;28mself\u001b[39m\u001b[38;5;241m.\u001b[39msignature)\n",
      "File \u001b[0;32m~/anaconda3/envs/psd-converter/lib/python3.10/enum.py:385\u001b[0m, in \u001b[0;36mEnumMeta.__call__\u001b[0;34m(cls, value, names, module, qualname, type, start)\u001b[0m\n\u001b[1;32m    360\u001b[0m \u001b[38;5;250m\u001b[39m\u001b[38;5;124;03m\"\"\"\u001b[39;00m\n\u001b[1;32m    361\u001b[0m \u001b[38;5;124;03mEither returns an existing member, or creates a new enum class.\u001b[39;00m\n\u001b[1;32m    362\u001b[0m \n\u001b[0;32m   (...)\u001b[0m\n\u001b[1;32m    382\u001b[0m \u001b[38;5;124;03m`type`, if set, will be mixed in as the first base class.\u001b[39;00m\n\u001b[1;32m    383\u001b[0m \u001b[38;5;124;03m\"\"\"\u001b[39;00m\n\u001b[1;32m    384\u001b[0m \u001b[38;5;28;01mif\u001b[39;00m names \u001b[38;5;129;01mis\u001b[39;00m \u001b[38;5;28;01mNone\u001b[39;00m:  \u001b[38;5;66;03m# simple value lookup\u001b[39;00m\n\u001b[0;32m--> 385\u001b[0m     \u001b[38;5;28;01mreturn\u001b[39;00m \u001b[38;5;28;43mcls\u001b[39;49m\u001b[38;5;241;43m.\u001b[39;49m\u001b[38;5;21;43m__new__\u001b[39;49m\u001b[43m(\u001b[49m\u001b[38;5;28;43mcls\u001b[39;49m\u001b[43m,\u001b[49m\u001b[43m \u001b[49m\u001b[43mvalue\u001b[49m\u001b[43m)\u001b[49m\n\u001b[1;32m    386\u001b[0m \u001b[38;5;66;03m# otherwise, functional API: we're creating a new Enum type\u001b[39;00m\n\u001b[1;32m    387\u001b[0m \u001b[38;5;28;01mreturn\u001b[39;00m \u001b[38;5;28mcls\u001b[39m\u001b[38;5;241m.\u001b[39m_create_(\n\u001b[1;32m    388\u001b[0m         value,\n\u001b[1;32m    389\u001b[0m         names,\n\u001b[0;32m   (...)\u001b[0m\n\u001b[1;32m    393\u001b[0m         start\u001b[38;5;241m=\u001b[39mstart,\n\u001b[1;32m    394\u001b[0m         )\n",
      "File \u001b[0;32m~/anaconda3/envs/psd-converter/lib/python3.10/enum.py:710\u001b[0m, in \u001b[0;36mEnum.__new__\u001b[0;34m(cls, value)\u001b[0m\n\u001b[1;32m    708\u001b[0m ve_exc \u001b[38;5;241m=\u001b[39m \u001b[38;5;167;01mValueError\u001b[39;00m(\u001b[38;5;124m\"\u001b[39m\u001b[38;5;132;01m%r\u001b[39;00m\u001b[38;5;124m is not a valid \u001b[39m\u001b[38;5;132;01m%s\u001b[39;00m\u001b[38;5;124m\"\u001b[39m \u001b[38;5;241m%\u001b[39m (value, \u001b[38;5;28mcls\u001b[39m\u001b[38;5;241m.\u001b[39m\u001b[38;5;18m__qualname__\u001b[39m))\n\u001b[1;32m    709\u001b[0m \u001b[38;5;28;01mif\u001b[39;00m result \u001b[38;5;129;01mis\u001b[39;00m \u001b[38;5;28;01mNone\u001b[39;00m \u001b[38;5;129;01mand\u001b[39;00m exc \u001b[38;5;129;01mis\u001b[39;00m \u001b[38;5;28;01mNone\u001b[39;00m:\n\u001b[0;32m--> 710\u001b[0m     \u001b[38;5;28;01mraise\u001b[39;00m ve_exc\n\u001b[1;32m    711\u001b[0m \u001b[38;5;28;01melif\u001b[39;00m exc \u001b[38;5;129;01mis\u001b[39;00m \u001b[38;5;28;01mNone\u001b[39;00m:\n\u001b[1;32m    712\u001b[0m     exc \u001b[38;5;241m=\u001b[39m \u001b[38;5;167;01mTypeError\u001b[39;00m(\n\u001b[1;32m    713\u001b[0m             \u001b[38;5;124m'\u001b[39m\u001b[38;5;124merror in \u001b[39m\u001b[38;5;132;01m%s\u001b[39;00m\u001b[38;5;124m._missing_: returned \u001b[39m\u001b[38;5;132;01m%r\u001b[39;00m\u001b[38;5;124m instead of None or a valid member\u001b[39m\u001b[38;5;124m'\u001b[39m\n\u001b[1;32m    714\u001b[0m             \u001b[38;5;241m%\u001b[39m (\u001b[38;5;28mcls\u001b[39m\u001b[38;5;241m.\u001b[39m\u001b[38;5;18m__name__\u001b[39m, result)\n\u001b[1;32m    715\u001b[0m             )\n",
      "\u001b[0;31mValueError\u001b[0m: 17224 is not a valid ColorMode"
     ]
    }
   ],
   "source": [
    "from psd_tools import PSDImage\n",
    "\n",
    "#psb also works\n",
    "\n",
    "psd = PSDImage.open(\"/mnt/z/onomaai/data/psd/다온/그 던전의 S급 시한부 영애/line_psd/031/그 던전의 S급 시한부 영애_30화_001.psb\")"
   ]
  },
  {
   "cell_type": "code",
   "execution_count": 8,
   "metadata": {},
   "outputs": [
    {
     "name": "stdout",
     "output_type": "stream",
     "text": [
      "8\n"
     ]
    }
   ],
   "source": [
    "print(num_processes)"
   ]
  },
  {
   "cell_type": "code",
   "execution_count": 7,
   "metadata": {},
   "outputs": [
    {
     "ename": "KeyboardInterrupt",
     "evalue": "",
     "output_type": "error",
     "traceback": [
      "\u001b[0;31m---------------------------------------------------------------------------\u001b[0m",
      "\u001b[0;31mKeyboardInterrupt\u001b[0m                         Traceback (most recent call last)",
      "Cell \u001b[0;32mIn[7], line 24\u001b[0m\n\u001b[1;32m     22\u001b[0m \u001b[38;5;66;03m# Close the pool to release resources\u001b[39;00m\n\u001b[1;32m     23\u001b[0m pool\u001b[38;5;241m.\u001b[39mclose()\n\u001b[0;32m---> 24\u001b[0m \u001b[43mpool\u001b[49m\u001b[38;5;241;43m.\u001b[39;49m\u001b[43mjoin\u001b[49m\u001b[43m(\u001b[49m\u001b[43m)\u001b[49m\n",
      "File \u001b[0;32m~/anaconda3/envs/psd-converter/lib/python3.10/multiprocessing/pool.py:665\u001b[0m, in \u001b[0;36mPool.join\u001b[0;34m(self)\u001b[0m\n\u001b[1;32m    663\u001b[0m \u001b[38;5;28;01melif\u001b[39;00m \u001b[38;5;28mself\u001b[39m\u001b[38;5;241m.\u001b[39m_state \u001b[38;5;129;01mnot\u001b[39;00m \u001b[38;5;129;01min\u001b[39;00m (CLOSE, TERMINATE):\n\u001b[1;32m    664\u001b[0m     \u001b[38;5;28;01mraise\u001b[39;00m \u001b[38;5;167;01mValueError\u001b[39;00m(\u001b[38;5;124m\"\u001b[39m\u001b[38;5;124mIn unknown state\u001b[39m\u001b[38;5;124m\"\u001b[39m)\n\u001b[0;32m--> 665\u001b[0m \u001b[38;5;28;43mself\u001b[39;49m\u001b[38;5;241;43m.\u001b[39;49m\u001b[43m_worker_handler\u001b[49m\u001b[38;5;241;43m.\u001b[39;49m\u001b[43mjoin\u001b[49m\u001b[43m(\u001b[49m\u001b[43m)\u001b[49m\n\u001b[1;32m    666\u001b[0m \u001b[38;5;28mself\u001b[39m\u001b[38;5;241m.\u001b[39m_task_handler\u001b[38;5;241m.\u001b[39mjoin()\n\u001b[1;32m    667\u001b[0m \u001b[38;5;28mself\u001b[39m\u001b[38;5;241m.\u001b[39m_result_handler\u001b[38;5;241m.\u001b[39mjoin()\n",
      "File \u001b[0;32m~/anaconda3/envs/psd-converter/lib/python3.10/threading.py:1096\u001b[0m, in \u001b[0;36mThread.join\u001b[0;34m(self, timeout)\u001b[0m\n\u001b[1;32m   1093\u001b[0m     \u001b[38;5;28;01mraise\u001b[39;00m \u001b[38;5;167;01mRuntimeError\u001b[39;00m(\u001b[38;5;124m\"\u001b[39m\u001b[38;5;124mcannot join current thread\u001b[39m\u001b[38;5;124m\"\u001b[39m)\n\u001b[1;32m   1095\u001b[0m \u001b[38;5;28;01mif\u001b[39;00m timeout \u001b[38;5;129;01mis\u001b[39;00m \u001b[38;5;28;01mNone\u001b[39;00m:\n\u001b[0;32m-> 1096\u001b[0m     \u001b[38;5;28;43mself\u001b[39;49m\u001b[38;5;241;43m.\u001b[39;49m\u001b[43m_wait_for_tstate_lock\u001b[49m\u001b[43m(\u001b[49m\u001b[43m)\u001b[49m\n\u001b[1;32m   1097\u001b[0m \u001b[38;5;28;01melse\u001b[39;00m:\n\u001b[1;32m   1098\u001b[0m     \u001b[38;5;66;03m# the behavior of a negative timeout isn't documented, but\u001b[39;00m\n\u001b[1;32m   1099\u001b[0m     \u001b[38;5;66;03m# historically .join(timeout=x) for x<0 has acted as if timeout=0\u001b[39;00m\n\u001b[1;32m   1100\u001b[0m     \u001b[38;5;28mself\u001b[39m\u001b[38;5;241m.\u001b[39m_wait_for_tstate_lock(timeout\u001b[38;5;241m=\u001b[39m\u001b[38;5;28mmax\u001b[39m(timeout, \u001b[38;5;241m0\u001b[39m))\n",
      "File \u001b[0;32m~/anaconda3/envs/psd-converter/lib/python3.10/threading.py:1116\u001b[0m, in \u001b[0;36mThread._wait_for_tstate_lock\u001b[0;34m(self, block, timeout)\u001b[0m\n\u001b[1;32m   1113\u001b[0m     \u001b[38;5;28;01mreturn\u001b[39;00m\n\u001b[1;32m   1115\u001b[0m \u001b[38;5;28;01mtry\u001b[39;00m:\n\u001b[0;32m-> 1116\u001b[0m     \u001b[38;5;28;01mif\u001b[39;00m \u001b[43mlock\u001b[49m\u001b[38;5;241;43m.\u001b[39;49m\u001b[43macquire\u001b[49m\u001b[43m(\u001b[49m\u001b[43mblock\u001b[49m\u001b[43m,\u001b[49m\u001b[43m \u001b[49m\u001b[43mtimeout\u001b[49m\u001b[43m)\u001b[49m:\n\u001b[1;32m   1117\u001b[0m         lock\u001b[38;5;241m.\u001b[39mrelease()\n\u001b[1;32m   1118\u001b[0m         \u001b[38;5;28mself\u001b[39m\u001b[38;5;241m.\u001b[39m_stop()\n",
      "\u001b[0;31mKeyboardInterrupt\u001b[0m: "
     ]
    }
   ],
   "source": [
    "import os\n",
    "import multiprocessing\n",
    "\n",
    "def rsync_file(file, path, destination):\n",
    "    os.system(f\"rsync -avhL \\\"{os.path.join(path, file)}\\\" \\\"{destination}/\\\"\")\n",
    "\n",
    "if __name__ == \"__main__\":\n",
    "    path = \"/mnt/f/paneah/dataset/다온/친구끼리 이러는거 아니야/친구끼리 원고 채색 (원본)\"\n",
    "    destination = \"onomaai@192.168.50.124:/volume1/homes/onomaai/data/psd/다온/친구끼리 이러는거 아니야\"\n",
    "\n",
    "    num_processes = multiprocessing.cpu_count()\n",
    "\n",
    "    file_list = os.listdir(path)\n",
    "\n",
    "    # Create a process pool\n",
    "    pool = multiprocessing.Pool(processes=num_processes)\n",
    "\n",
    "    # Start rsync for each file using multiple processes\n",
    "    for file in file_list:\n",
    "        pool.apply_async(rsync_file, args=(file, path, destination))\n",
    "\n",
    "    # Close the pool to release resources\n",
    "    pool.close()\n",
    "    pool.join()"
   ]
  }
 ],
 "metadata": {
  "kernelspec": {
   "display_name": "danbooru",
   "language": "python",
   "name": "python3"
  },
  "language_info": {
   "codemirror_mode": {
    "name": "ipython",
    "version": 3
   },
   "file_extension": ".py",
   "mimetype": "text/x-python",
   "name": "python",
   "nbconvert_exporter": "python",
   "pygments_lexer": "ipython3",
   "version": "3.10.14"
  }
 },
 "nbformat": 4,
 "nbformat_minor": 2
}
