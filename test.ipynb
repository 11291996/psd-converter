{
 "cells": [
  {
   "cell_type": "code",
   "execution_count": null,
   "metadata": {},
   "outputs": [],
   "source": [
    "path = \"/mnt/z/onomaai/data/psd/다온/그 던전의 S급 시한부 영애/line_psd/\"\n",
    "\n",
    "import os \n",
    "\n",
    "file_list = os.listdir(path)\n",
    "\n",
    "\"\"\"\n",
    "for idx, file in enumerate(file_list):\n",
    "    os.system(f\"mv \\\"{path}{file}\\\" \\\"{path}{idx}\\\"\")\n",
    "\"\"\"\n",
    "\n",
    "for file in file_list:\n",
    "    page_list = os.listdir(f\"{path}/{file}\")\n",
    "    for idx, page in enumerate(page_list):\n",
    "        os.system(f\"mv \\\"{path}{file}/{page}\\\" \\\"{path}{file}/{idx + 1}.psd\\\"\")"
   ]
  },
  {
   "cell_type": "code",
   "execution_count": null,
   "metadata": {},
   "outputs": [],
   "source": [
    "from psd_tools import PSDImage\n",
    "\n",
    "#psb also works\n",
    "\n",
    "psd = PSDImage.open(\"/mnt/z/onomaai/data/psd/다온/그 던전의 S급 시한부 영애/line_psd/031/그 던전의 S급 시한부 영애_30화_001.psb\")"
   ]
  },
  {
   "cell_type": "code",
   "execution_count": null,
   "metadata": {},
   "outputs": [],
   "source": [
    "print(num_processes)"
   ]
  },
  {
   "cell_type": "code",
   "execution_count": null,
   "metadata": {},
   "outputs": [],
   "source": [
    "import os\n",
    "import multiprocessing\n",
    "\n",
    "def rsync_file(file, path, destination):\n",
    "    os.system(f\"rsync -avhL \\\"{os.path.join(path, file)}\\\" \\\"{destination}/\\\"\")\n",
    "\n",
    "if __name__ == \"__main__\":\n",
    "    path = \"/mnt/f/paneah/dataset/다온/친구끼리 이러는거 아니야/친구끼리 원고 채색 (원본)\"\n",
    "    destination = \"onomaai@192.168.50.124:/volume1/homes/onomaai/data/psd/다온/친구끼리 이러는거 아니야\"\n",
    "\n",
    "    num_processes = multiprocessing.cpu_count()\n",
    "\n",
    "    file_list = os.listdir(path)\n",
    "\n",
    "    # Create a process pool\n",
    "    pool = multiprocessing.Pool(processes=num_processes)\n",
    "\n",
    "    # Start rsync for each file using multiple processes\n",
    "    for file in file_list:\n",
    "        pool.apply_async(rsync_file, args=(file, path, destination))\n",
    "\n",
    "    # Close the pool to release resources\n",
    "    pool.close()\n",
    "    pool.join()"
   ]
  }
 ],
 "metadata": {
  "kernelspec": {
   "display_name": "danbooru",
   "language": "python",
   "name": "python3"
  },
  "language_info": {
   "codemirror_mode": {
    "name": "ipython",
    "version": 3
   },
   "file_extension": ".py",
   "mimetype": "text/x-python",
   "name": "python",
   "nbconvert_exporter": "python",
   "pygments_lexer": "ipython3",
   "version": "3.10.14"
  }
 },
 "nbformat": 4,
 "nbformat_minor": 2
}
