{
 "cells": [
  {
   "cell_type": "code",
   "execution_count": 37,
   "metadata": {},
   "outputs": [
    {
     "data": {
      "text/plain": [
       "'\\nfor folders in os.listdir(path):\\n   for file in os.listdir(os.path.join(path, folders)): \\n       if not file.endswith(\".psd\"):\\n            os.system(f\"rm -rf \"{os.path.join(path, folders, file)}\"\")\\n'"
      ]
     },
     "execution_count": 37,
     "metadata": {},
     "output_type": "execute_result"
    }
   ],
   "source": [
    "path = \"/mnt/y/ai_team/data/psd/다온/잃고나서야 깨달았다/line_psd\"\n",
    "new_path = \"/mnt/y/ai_team/data/clip/케냐즈/캡틴 이브\"\n",
    "#file = \"test.py\"\n",
    "\n",
    "import os \n",
    "\n",
    "#get all the psd files in the directory and its subdirectories\n",
    "\n",
    "def get_all_psd_files(path):\n",
    "    psd_files = []\n",
    "    for root, dirs, files in os.walk(path):\n",
    "        for file in files:\n",
    "            if file.endswith(\".psd\") or file.endswith(\".psb\"):\n",
    "                psd_files.append(os.path.join(root, file))\n",
    "    return psd_files\n",
    "\n",
    "def get_all_clip_files(path):\n",
    "    clip_files = []\n",
    "    for root, dirs, files in os.walk(path):\n",
    "        for file in files:\n",
    "            if file.endswith(\".clip\"):\n",
    "                clip_files.append(os.path.join(root, file))\n",
    "    return clip_files\n",
    "\n",
    "#put psds in the new episode folders\n",
    "\n",
    "all_psds = get_all_psd_files(path)\n",
    "\n",
    "\"\"\"\n",
    "for folder in os.listdir(new_path):\n",
    "    ep_num = 0\n",
    "    for psd in all_psds:\n",
    "        psd_ep = psd.split(\"/\")[8].replace(\"화\", \"\")\n",
    "        if psd_ep == folder:\n",
    "            os.system(f\"mv \\\"{psd}\\\" \\\"{new_path}/{folder}/{ep_num}.psd\\\"\")\n",
    "            ep_num += 1\n",
    "\"\"\"\n",
    "                   \n",
    "#for folder in os.listdir(path):\n",
    "#    print(folder.replace(\"화\", \"\"))\n",
    "\n",
    "#all_clips = get_all_clip_files(path)\n",
    "\n",
    "#for folder in os.listdir(new_path):\n",
    "#    print(folder, os.listdir(os.path.join(new_path, folder)))\n",
    "\n",
    "#for idx, folder in enumerate(os.listdir(path)):\n",
    "#    os.system(f\"mkdir \\\"{new_path}/{idx + 1}\\\"\")\n",
    "\n",
    "\"\"\"\n",
    "for folders in os.listdir(path):\n",
    "   for file in os.listdir(os.path.join(path, folders)): \n",
    "       if not file.endswith(\".psd\"):\n",
    "            os.system(f\"rm -rf \\\"{os.path.join(path, folders, file)}\\\"\")\n",
    "\"\"\""
   ]
  },
  {
   "cell_type": "code",
   "execution_count": 71,
   "metadata": {},
   "outputs": [
    {
     "data": {
      "text/plain": [
       "'\\nfor chapter in weapon:\\n    episode = chapter.replace(\"화\", \"\")\\n    #os.system(f\"mkdir \"{new_path}/{episode}\"\")\\n    os.system(f\"mkdir \"{path}/{episode}\"\")\\n    ep_num = 0\\n    for clip in all_clips:\\n        clip_ep = clip.split(\"/\")[8].replace(\"화\", \"\")\\n        if episode == clip_ep:\\n            os.system(f\" mv \"{clip}\" \"{path}/{episode}/{ep_num}.clip\"\")\\n            ep_num += 1\\n\\n\\nfor chapter in weapon:\\n    if chapter.endswith(\"화\"):\\n        os.system(f\"rm -rf \"{path}/{chapter}\"\")\\n'"
      ]
     },
     "execution_count": 71,
     "metadata": {},
     "output_type": "execute_result"
    }
   ],
   "source": [
    "ep = []\n",
    "\n",
    "for psd in all_psds:\n",
    "    if not \"화\" in psd.split(\"/\")[10]:\n",
    "        ep.append(psd.split(\"/\")[10][:3])\n",
    "\n",
    "set_ep = set(ep)\n",
    "\n",
    "#print(set_ep)\n",
    "\n",
    "new_path = \"/mnt/y/ai_team/data/psd/다온/잃고나서야 깨달았다/\"\n",
    "\n",
    "for ep in set_ep:\n",
    "    os.system(f\"mkdir \\\"{new_path}{ep}\\\"\")\n",
    "    ep_num = 0\n",
    "    for psd in all_psds:\n",
    "        if ep in psd.split(\"/\")[10]:\n",
    "            if psd.split(\"/\")[-1].endswith(\"psd\"):\n",
    "                os.system(f\"mv \\\"{psd}\\\" \\\"{new_path}{ep}/{ep_num}.psd\\\"\")\n",
    "            elif psd.split(\"/\")[-1].endswith(\"psb\"):\n",
    "                os.system(f\"mv \\\"{psd}\\\" \\\"{new_path}{ep}/{ep_num}.psb\\\"\")\n",
    "            ep_num += 1\n",
    "        \n",
    "\n",
    "\"\"\"\n",
    "for chapter in weapon:\n",
    "    episode = chapter.replace(\"화\", \"\")\n",
    "    #os.system(f\"mkdir \\\"{new_path}/{episode}\\\"\")\n",
    "    os.system(f\"mkdir \\\"{path}/{episode}\\\"\")\n",
    "    ep_num = 0\n",
    "    for clip in all_clips:\n",
    "        clip_ep = clip.split(\"/\")[8].replace(\"화\", \"\")\n",
    "        if episode == clip_ep:\n",
    "            os.system(f\" mv \\\"{clip}\\\" \\\"{path}/{episode}/{ep_num}.clip\\\"\")\n",
    "            ep_num += 1\n",
    "\n",
    "\n",
    "for chapter in weapon:\n",
    "    if chapter.endswith(\"화\"):\n",
    "        os.system(f\"rm -rf \\\"{path}/{chapter}\\\"\")\n",
    "\"\"\""
   ]
  },
  {
   "cell_type": "code",
   "execution_count": null,
   "metadata": {},
   "outputs": [],
   "source": [
    "path = \"/mnt/z/onomaai/data/psd/다온/그 던전의 S급 시한부 영애\"\n",
    "\n",
    "for folder in os.listdir(path):\n",
    "    for psd in os.listdir(os.path.join(path, folder)):\n",
    "        print(psd)\n",
    "\n",
    "\"\"\"\n",
    "for idx, folder in enumerate(os.listdir(path)):\n",
    "    save_path = f\"{new_path}/{idx + 1}\"\n",
    "    print(f\"mkdir \\\"{save_path}\\\"/\")\n",
    "    #os.system(f\"mkdir \\\"{path}/{idx + 1}/\\\"\")\n",
    "    psd_num = 0\n",
    "    for clip in all_clips:\n",
    "        if clip.split(\"/\")[8] == folder:\n",
    "            print(f\"mv \\\"{clip}\\\" \\\"{new_path}/{psd_num}.psd\\\"\")\n",
    "            #os.system(f\"mv \\\"{psd}\\\" \\\"{save_path}/{psd_num}.psd\\\"\")\n",
    "            psd_num += 1\n",
    "\"\"\""
   ]
  },
  {
   "cell_type": "code",
   "execution_count": null,
   "metadata": {},
   "outputs": [],
   "source": [
    "from psd_tools import PSDImage\n",
    "\n",
    "#psb also works\n",
    "\n",
    "psd = PSDImage.open(\"/mnt/z/onomaai/data/무림25-1.psd\")"
   ]
  },
  {
   "cell_type": "code",
   "execution_count": null,
   "metadata": {},
   "outputs": [],
   "source": [
    "print(psd._layers[3][0][:])\n",
    "\n",
    "image = psd._layers[3][0][:][0].compose(bbox = psd.bbox)\n",
    "\n",
    "for other in psd._layers[3][0][1:]:\n",
    "    other_image = other.compose(bbox = psd.bbox)\n",
    "    image.paste(other_image, (0, 0), other_image)\n",
    "\n",
    "image.show()"
   ]
  },
  {
   "cell_type": "code",
   "execution_count": null,
   "metadata": {},
   "outputs": [],
   "source": [
    "from main import get_pixel_layers_path\n",
    "import os \n",
    "\n",
    "folder_path = \"../test_data/test_folder/\"\n",
    "psd_list = [folder_path + file for file in os.listdir(folder_path)]\n",
    "\n",
    "def get_layers_from_list(psd_list: list[str]) -> list:\n",
    "    psd_layer_list_list = []\n",
    "    for psd_path in psd_list:\n",
    "        psd_layer_list_list.append(get_pixel_layers_path(psd_path))\n",
    "    return psd_layer_list_list\n",
    "\n",
    "layer_list_list = get_layers_from_list(psd_list)\n",
    "\n",
    "target_layer = layer_list_list[0][0]\n",
    "\n",
    "for layer_list in layer_list_list[1:]:\n",
    "    for layer in layer_list:\n",
    "        if layer.name == target_layer.name and layer.parent.name == target_layer.parent.name:\n",
    "            print(\"found\")\n",
    "            break\n",
    "    else:\n",
    "        print(\"not found\")\n",
    "        break"
   ]
  },
  {
   "cell_type": "code",
   "execution_count": null,
   "metadata": {},
   "outputs": [],
   "source": [
    "psd = PSDImage.open(psd_list[0])"
   ]
  }
 ],
 "metadata": {
  "kernelspec": {
   "display_name": "danbooru",
   "language": "python",
   "name": "python3"
  },
  "language_info": {
   "codemirror_mode": {
    "name": "ipython",
    "version": 3
   },
   "file_extension": ".py",
   "mimetype": "text/x-python",
   "name": "python",
   "nbconvert_exporter": "python",
   "pygments_lexer": "ipython3",
   "version": "3.8.19"
  }
 },
 "nbformat": 4,
 "nbformat_minor": 2
}
