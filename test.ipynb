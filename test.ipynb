{
 "cells": [
  {
   "cell_type": "code",
   "execution_count": null,
   "metadata": {},
   "outputs": [],
   "source": [
    "path = \"/mnt/y/ai_team/data/psd/다온/잃고나서야 깨달았다/color_psd\"\n",
    "new_path = \"/mnt/y/ai_team/data/clip/케냐즈/캡틴 이브\"\n",
    "#file = \"test.py\"\n",
    "\n",
    "import os \n",
    "\n",
    "#get all the psd files in the directory and its subdirectories\n",
    "\n",
    "def get_all_psd_files(path):\n",
    "    psd_files = []\n",
    "    for root, dirs, files in os.walk(path):\n",
    "        for file in files:\n",
    "            if file.endswith(\".psd\") or file.endswith(\".psb\"):\n",
    "                psd_files.append(os.path.join(root, file))\n",
    "    return psd_files\n",
    "\n",
    "def get_all_clip_files(path):\n",
    "    clip_files = []\n",
    "    for root, dirs, files in os.walk(path):\n",
    "        for file in files:\n",
    "            if file.endswith(\".clip\"):\n",
    "                clip_files.append(os.path.join(root, file))\n",
    "    return clip_files\n",
    "\n",
    "#put psds in the new episode folders\n",
    "\n",
    "all_psds = get_all_psd_files(path)\n",
    "\n",
    "\"\"\"\n",
    "for folder in os.listdir(new_path):\n",
    "    ep_num = 0\n",
    "    for psd in all_psds:\n",
    "        psd_ep = psd.split(\"/\")[8].replace(\"화\", \"\")\n",
    "        if psd_ep == folder:\n",
    "            os.system(f\"mv \\\"{psd}\\\" \\\"{new_path}/{folder}/{ep_num}.psd\\\"\")\n",
    "            ep_num += 1\n",
    "\"\"\"\n",
    "                   \n",
    "#for folder in os.listdir(path):\n",
    "#    print(folder.replace(\"화\", \"\"))\n",
    "\n",
    "#all_clips = get_all_clip_files(path)\n",
    "\n",
    "#for folder in os.listdir(new_path):\n",
    "#    print(folder, os.listdir(os.path.join(new_path, folder)))\n",
    "\n",
    "#for idx, folder in enumerate(os.listdir(path)):\n",
    "#    os.system(f\"mkdir \\\"{new_path}/{idx + 1}\\\"\")\n",
    "\n",
    "\"\"\"\n",
    "for folders in os.listdir(path):\n",
    "   for file in os.listdir(os.path.join(path, folders)): \n",
    "       if not file.endswith(\".psd\"):\n",
    "            os.system(f\"rm -rf \\\"{os.path.join(path, folders, file)}\\\"\")\n",
    "\"\"\""
   ]
  },
  {
   "cell_type": "code",
   "execution_count": null,
   "metadata": {},
   "outputs": [],
   "source": [
    "ep = []\n",
    "\n",
    "for psd in all_psds:\n",
    "    if not \"화\" in psd.split(\"/\")[10]:\n",
    "        ep.append(psd.split(\"/\")[10][:3])\n",
    "\n",
    "set_ep = set(ep)\n",
    "\n",
    "#print(set_ep)\n",
    "\n",
    "new_path = \"/mnt/y/ai_team/data/psd/다온/잃고나서야 깨달았다/color_psd/\"\n",
    "\n",
    "for ep in set_ep:\n",
    "    os.system(f\"mkdir \\\"{new_path}{ep}\\\"\")\n",
    "    ep_num = 0\n",
    "    for psd in all_psds:\n",
    "        if ep in psd.split(\"/\")[10]:\n",
    "            if psd.split(\"/\")[-1].endswith(\"psd\"):\n",
    "                os.system(f\"mv \\\"{psd}\\\" \\\"{new_path}{ep}/{ep_num}.psd\\\"\")\n",
    "            elif psd.split(\"/\")[-1].endswith(\"psb\"):\n",
    "                os.system(f\"mv \\\"{psd}\\\" \\\"{new_path}{ep}/{ep_num}.psb\\\"\")\n",
    "            ep_num += 1\n",
    "        \n",
    "\n",
    "\"\"\"\n",
    "for chapter in weapon:\n",
    "    episode = chapter.replace(\"화\", \"\")\n",
    "    #os.system(f\"mkdir \\\"{new_path}/{episode}\\\"\")\n",
    "    os.system(f\"mkdir \\\"{path}/{episode}\\\"\")\n",
    "    ep_num = 0\n",
    "    for clip in all_clips:\n",
    "        clip_ep = clip.split(\"/\")[8].replace(\"화\", \"\")\n",
    "        if episode == clip_ep:\n",
    "            os.system(f\" mv \\\"{clip}\\\" \\\"{path}/{episode}/{ep_num}.clip\\\"\")\n",
    "            ep_num += 1\n",
    "\n",
    "\n",
    "for chapter in weapon:\n",
    "    if chapter.endswith(\"화\"):\n",
    "        os.system(f\"rm -rf \\\"{path}/{chapter}\\\"\")\n",
    "\"\"\""
   ]
  },
  {
   "cell_type": "code",
   "execution_count": null,
   "metadata": {},
   "outputs": [],
   "source": [
    "from psd_tools import PSDImage\n",
    "\n",
    "psd = PSDImage.open(\"/mnt/f/paneah/dataset/캡틴 이브/11/1.psd\")"
   ]
  },
  {
   "cell_type": "code",
   "execution_count": null,
   "metadata": {},
   "outputs": [],
   "source": [
    "def get_pixel_layers_path(psd_path: str) -> list:\n",
    "    psd = PSDImage.open(psd_path)\n",
    "    return get_pixel_layers(psd)\n",
    "    \n",
    "def get_pixel_layers(psd):\n",
    "    pixel_layers = []\n",
    "    for layer in psd._layers:\n",
    "        if layer.is_group():\n",
    "            pixel_layers.extend(get_pixel_layers(layer))\n",
    "        else:\n",
    "            pixel_layers.append(layer)\n",
    "    return pixel_layers"
   ]
  },
  {
   "cell_type": "code",
   "execution_count": null,
   "metadata": {},
   "outputs": [],
   "source": [
    "import multiprocessing\n",
    "\n",
    "def worker(int_tuple):\n",
    "    return int_tuple[0] + int_tuple[1]\n",
    "\n",
    "num_processes = multiprocessing.cpu_count()\n",
    "\n",
    "if __name__ == '__main__':\n",
    "    pool = multiprocessing.Pool(processes = num_processes)\n",
    "    for i in range(10):\n",
    "        print(pool.map(worker, zip(range(0 + i,8 + i), range(0 + i,8 + i))))\n"
   ]
  },
  {
   "cell_type": "code",
   "execution_count": null,
   "metadata": {},
   "outputs": [],
   "source": [
    "start_idx = 1 \n",
    "end_idx = start_idx + 8\n",
    "\n",
    "total = 33\n",
    "\n",
    "test_list = [i for i in range(total)]\n",
    "\n",
    "while end_idx < total:\n",
    "    print(test_list[start_idx:end_idx])\n",
    "    start_idx += 8\n",
    "    end_idx += 8\n",
    "    if end_idx >= total:\n",
    "        print(test_list[start_idx:])\n",
    "    "
   ]
  },
  {
   "cell_type": "code",
   "execution_count": null,
   "metadata": {},
   "outputs": [],
   "source": [
    "layer_list = [0, 1, 'layer2', 2, 'layer3', 2, 'layer3', 'layer1', 'layer1', 'layer1', 1, 2, 'layer3', 'layer3', 'layer2', 'layer2', 1, 2, 'layer3', 'layer3', 3, 'layer4', 'layer3', 'layer3', 2, 'layer3', 'layer3', 'layer3', 'layer3', 1, 2, 'layer3', 'layer3', 'layer3', 'layer3', 'layer3', 'layer3', 'layer3', 'layer3', 'layer3', 'layer3', 'layer3', 'layer3', 'layer3', 'layer3', 'layer3', 'layer3', 2, 'layer3', 'layer3', 'layer3', 'layer3', 'layer3', 'layer3', 'layer3', 2, 3, 'layer4', 'layer4', 'layer4', 'layer4', 'layer4', 'layer4', 'layer4', 'layer4', 'layer4', 'layer4', 'layer4', 'layer3', 'layer3', 'layer1', 'layer1']\n",
    "box_list = [False for i in range(len(layer_list))]\n",
    "box_list[0] = True\n",
    "\n",
    "def apply_select_all(layer_list, box_list):\n",
    "    for idx, layer, box in zip(range(len(layer_list)), layer_list, box_list):\n",
    "        if box and isinstance(layer, int):\n",
    "            print(f\"current layer: {layer}\")\n",
    "            for idx2, layer2, box2 in zip(range(len(layer_list[idx + 1:])), layer_list[idx + 1:], box_list[idx + 1:]):\n",
    "                if isinstance(layer2, str):\n",
    "                    box_list[idx + 1 + idx2] = not box2 \n",
    "                    print(f\"changed {layer2} to {not box2}\")\n",
    "                elif isinstance(layer2, int) and layer == layer2:\n",
    "                    break\n",
    "                else:\n",
    "                    print(f\"no change: {layer2}\")\n",
    "    new_box_list = [box for layer, box in zip(layer_list, box_list) if isinstance(layer, str)]\n",
    "    return new_box_list\n",
    "\n",
    "list = [(layer, box) for layer, box in zip(layer_list, box_list)]\n",
    "\n",
    "print(list)\n",
    "\n",
    "apply_select_all(layer_list, box_list)\n",
    "\n",
    "list = [(layer, box) for layer, box in zip(layer_list, box_list)]\n",
    "\n",
    "print(list)"
   ]
  },
  {
   "cell_type": "code",
   "execution_count": 60,
   "metadata": {},
   "outputs": [
    {
     "name": "stdout",
     "output_type": "stream",
     "text": [
      "[PixelLayer('c' size=2000x22705), PixelLayer('2' size=2000x22381), PixelLayer('3' size=2000x3134), PixelLayer('4' size=2000x3136), PixelLayer('brush1' size=2000x22705), PixelLayer('c' size=1004x1116), PixelLayer('c' size=2000x3552), PixelLayer('p1' size=2000x22542), PixelLayer('hi' size=309x65)]\n"
     ]
    }
   ],
   "source": [
    "from psd_tools import PSDImage\n",
    "\n",
    "psd = PSDImage.open(\"/mnt/f/paneah/dataset/캡틴 이브/4/2.psd\")\n",
    "\n",
    "print(psd._layers[8][:])\n"
   ]
  },
  {
   "cell_type": "code",
   "execution_count": 87,
   "metadata": {},
   "outputs": [
    {
     "name": "stdout",
     "output_type": "stream",
     "text": [
      "['/mnt/f/paneah/dataset/캡틴 이브/2/1.psd', '/mnt/f/paneah/dataset/캡틴 이브/2/2.psd', '/mnt/f/paneah/dataset/캡틴 이브/2/3.psd', '/mnt/f/paneah/dataset/캡틴 이브/2/4.psd', '/mnt/f/paneah/dataset/캡틴 이브/2/5.psd', '/mnt/f/paneah/dataset/캡틴 이브/2/6.psd', '/mnt/f/paneah/dataset/캡틴 이브/2/7.psd', '/mnt/f/paneah/dataset/캡틴 이브/2/8.psd', '/mnt/f/paneah/dataset/캡틴 이브/2/9.psd', '/mnt/f/paneah/dataset/캡틴 이브/2/10.psd', '/mnt/f/paneah/dataset/캡틴 이브/2/11.psd', '/mnt/f/paneah/dataset/캡틴 이브/2/12.psd', '/mnt/f/paneah/dataset/캡틴 이브/3/0.psd', '/mnt/f/paneah/dataset/캡틴 이브/3/1.psd', '/mnt/f/paneah/dataset/캡틴 이브/3/2.psd', '/mnt/f/paneah/dataset/캡틴 이브/3/3.psd', '/mnt/f/paneah/dataset/캡틴 이브/3/4.psd', '/mnt/f/paneah/dataset/캡틴 이브/3/5.psd', '/mnt/f/paneah/dataset/캡틴 이브/3/6.psd', '/mnt/f/paneah/dataset/캡틴 이브/3/7.psd', '/mnt/f/paneah/dataset/캡틴 이브/3/8.psd', '/mnt/f/paneah/dataset/캡틴 이브/3/9.psd', '/mnt/f/paneah/dataset/캡틴 이브/3/10.psd', '/mnt/f/paneah/dataset/캡틴 이브/4/0.psd', '/mnt/f/paneah/dataset/캡틴 이브/4/1.psd', '/mnt/f/paneah/dataset/캡틴 이브/4/2.psd', '/mnt/f/paneah/dataset/캡틴 이브/4/3.psd', '/mnt/f/paneah/dataset/캡틴 이브/4/4.psd', '/mnt/f/paneah/dataset/캡틴 이브/4/5.psd', '/mnt/f/paneah/dataset/캡틴 이브/4/6.psd', '/mnt/f/paneah/dataset/캡틴 이브/4/7.psd', '/mnt/f/paneah/dataset/캡틴 이브/4/8.psd', '/mnt/f/paneah/dataset/캡틴 이브/4/9.psd', '/mnt/f/paneah/dataset/캡틴 이브/4/10.psd', '/mnt/f/paneah/dataset/캡틴 이브/4/11.psd', '/mnt/f/paneah/dataset/캡틴 이브/4/12.psd', '/mnt/f/paneah/dataset/캡틴 이브/5/0.psd', '/mnt/f/paneah/dataset/캡틴 이브/5/1.psd', '/mnt/f/paneah/dataset/캡틴 이브/5/2.psd', '/mnt/f/paneah/dataset/캡틴 이브/5/3.psd', '/mnt/f/paneah/dataset/캡틴 이브/5/4.psd', '/mnt/f/paneah/dataset/캡틴 이브/5/5.psd', '/mnt/f/paneah/dataset/캡틴 이브/5/6.psd', '/mnt/f/paneah/dataset/캡틴 이브/5/7.psd', '/mnt/f/paneah/dataset/캡틴 이브/5/8.psd', '/mnt/f/paneah/dataset/캡틴 이브/5/9.psd', '/mnt/f/paneah/dataset/캡틴 이브/5/10.psd', '/mnt/f/paneah/dataset/캡틴 이브/5/11.psd', '/mnt/f/paneah/dataset/캡틴 이브/5/12.psd', '/mnt/f/paneah/dataset/캡틴 이브/6/0.psd', '/mnt/f/paneah/dataset/캡틴 이브/6/1.psd', '/mnt/f/paneah/dataset/캡틴 이브/6/2.psd', '/mnt/f/paneah/dataset/캡틴 이브/6/3.psd', '/mnt/f/paneah/dataset/캡틴 이브/6/4.psd', '/mnt/f/paneah/dataset/캡틴 이브/6/5.psd', '/mnt/f/paneah/dataset/캡틴 이브/6/6.psd', '/mnt/f/paneah/dataset/캡틴 이브/6/7.psd', '/mnt/f/paneah/dataset/캡틴 이브/6/8.psd', '/mnt/f/paneah/dataset/캡틴 이브/6/9.psd', '/mnt/f/paneah/dataset/캡틴 이브/6/10.psd', '/mnt/f/paneah/dataset/캡틴 이브/6/11.psd', '/mnt/f/paneah/dataset/캡틴 이브/6/12.psd', '/mnt/f/paneah/dataset/캡틴 이브/7/0.psd', '/mnt/f/paneah/dataset/캡틴 이브/7/1.psd', '/mnt/f/paneah/dataset/캡틴 이브/7/2.psd', '/mnt/f/paneah/dataset/캡틴 이브/7/3.psd', '/mnt/f/paneah/dataset/캡틴 이브/7/4.psd', '/mnt/f/paneah/dataset/캡틴 이브/7/5.psd', '/mnt/f/paneah/dataset/캡틴 이브/7/6.psd', '/mnt/f/paneah/dataset/캡틴 이브/7/7.psd', '/mnt/f/paneah/dataset/캡틴 이브/7/8.psd', '/mnt/f/paneah/dataset/캡틴 이브/7/9.psd', '/mnt/f/paneah/dataset/캡틴 이브/7/10.psd', '/mnt/f/paneah/dataset/캡틴 이브/7/11.psd', '/mnt/f/paneah/dataset/캡틴 이브/7/12.psd', '/mnt/f/paneah/dataset/캡틴 이브/7/13.psd', '/mnt/f/paneah/dataset/캡틴 이브/7/14.psd', '/mnt/f/paneah/dataset/캡틴 이브/8/0.psd', '/mnt/f/paneah/dataset/캡틴 이브/8/1.psd', '/mnt/f/paneah/dataset/캡틴 이브/8/2.psd', '/mnt/f/paneah/dataset/캡틴 이브/8/3.psd', '/mnt/f/paneah/dataset/캡틴 이브/8/4.psd', '/mnt/f/paneah/dataset/캡틴 이브/8/5.psd', '/mnt/f/paneah/dataset/캡틴 이브/8/6.psd', '/mnt/f/paneah/dataset/캡틴 이브/8/7.psd', '/mnt/f/paneah/dataset/캡틴 이브/8/8.psd', '/mnt/f/paneah/dataset/캡틴 이브/8/9.psd', '/mnt/f/paneah/dataset/캡틴 이브/8/10.psd', '/mnt/f/paneah/dataset/캡틴 이브/8/11.psd', '/mnt/f/paneah/dataset/캡틴 이브/8/12.psd', '/mnt/f/paneah/dataset/캡틴 이브/8/13.psd', '/mnt/f/paneah/dataset/캡틴 이브/9/0.psd', '/mnt/f/paneah/dataset/캡틴 이브/9/1.psd', '/mnt/f/paneah/dataset/캡틴 이브/9/2.psd', '/mnt/f/paneah/dataset/캡틴 이브/9/3.psd', '/mnt/f/paneah/dataset/캡틴 이브/9/4.psd', '/mnt/f/paneah/dataset/캡틴 이브/9/5.psd', '/mnt/f/paneah/dataset/캡틴 이브/9/6.psd', '/mnt/f/paneah/dataset/캡틴 이브/9/7.psd', '/mnt/f/paneah/dataset/캡틴 이브/9/8.psd', '/mnt/f/paneah/dataset/캡틴 이브/9/9.psd', '/mnt/f/paneah/dataset/캡틴 이브/9/10.psd', '/mnt/f/paneah/dataset/캡틴 이브/9/11.psd', '/mnt/f/paneah/dataset/캡틴 이브/9/12.psd', '/mnt/f/paneah/dataset/캡틴 이브/9/13.psd', '/mnt/f/paneah/dataset/캡틴 이브/9/14.psd', '/mnt/f/paneah/dataset/캡틴 이브/9/15.psd', '/mnt/f/paneah/dataset/캡틴 이브/10/0.psd', '/mnt/f/paneah/dataset/캡틴 이브/10/1.psd', '/mnt/f/paneah/dataset/캡틴 이브/10/2.psd', '/mnt/f/paneah/dataset/캡틴 이브/10/3.psd', '/mnt/f/paneah/dataset/캡틴 이브/10/4.psd', '/mnt/f/paneah/dataset/캡틴 이브/10/5.psd', '/mnt/f/paneah/dataset/캡틴 이브/10/6.psd', '/mnt/f/paneah/dataset/캡틴 이브/10/7.psd', '/mnt/f/paneah/dataset/캡틴 이브/10/8.psd', '/mnt/f/paneah/dataset/캡틴 이브/10/9.psd', '/mnt/f/paneah/dataset/캡틴 이브/10/10.psd', '/mnt/f/paneah/dataset/캡틴 이브/10/11.psd', '/mnt/f/paneah/dataset/캡틴 이브/10/12.psd', '/mnt/f/paneah/dataset/캡틴 이브/10/13.psd', '/mnt/f/paneah/dataset/캡틴 이브/10/14.psd', '/mnt/f/paneah/dataset/캡틴 이브/10/15.psd', '/mnt/f/paneah/dataset/캡틴 이브/11/0.psd', '/mnt/f/paneah/dataset/캡틴 이브/11/2.psd', '/mnt/f/paneah/dataset/캡틴 이브/11/3.psd', '/mnt/f/paneah/dataset/캡틴 이브/11/5.psd', '/mnt/f/paneah/dataset/캡틴 이브/11/6.psd', '/mnt/f/paneah/dataset/캡틴 이브/11/7.psd', '/mnt/f/paneah/dataset/캡틴 이브/11/8.psd', '/mnt/f/paneah/dataset/캡틴 이브/11/9.psd', '/mnt/f/paneah/dataset/캡틴 이브/11/10.psd', '/mnt/f/paneah/dataset/캡틴 이브/11/11.psd', '/mnt/f/paneah/dataset/캡틴 이브/11/12.psd', '/mnt/f/paneah/dataset/캡틴 이브/11/13.psd', '/mnt/f/paneah/dataset/캡틴 이브/12/0.psd', '/mnt/f/paneah/dataset/캡틴 이브/12/1.psd', '/mnt/f/paneah/dataset/캡틴 이브/12/2.psd', '/mnt/f/paneah/dataset/캡틴 이브/12/3.psd', '/mnt/f/paneah/dataset/캡틴 이브/12/4.psd', '/mnt/f/paneah/dataset/캡틴 이브/12/5.psd', '/mnt/f/paneah/dataset/캡틴 이브/12/6.psd', '/mnt/f/paneah/dataset/캡틴 이브/12/7.psd', '/mnt/f/paneah/dataset/캡틴 이브/12/8.psd', '/mnt/f/paneah/dataset/캡틴 이브/12/9.psd', '/mnt/f/paneah/dataset/캡틴 이브/12/10.psd', '/mnt/f/paneah/dataset/캡틴 이브/12/11.psd', '/mnt/f/paneah/dataset/캡틴 이브/12/12.psd', '/mnt/f/paneah/dataset/캡틴 이브/12/13.psd', '/mnt/f/paneah/dataset/캡틴 이브/13/0.psd', '/mnt/f/paneah/dataset/캡틴 이브/13/1.psd', '/mnt/f/paneah/dataset/캡틴 이브/13/2.psd', '/mnt/f/paneah/dataset/캡틴 이브/13/3.psd', '/mnt/f/paneah/dataset/캡틴 이브/13/4.psd', '/mnt/f/paneah/dataset/캡틴 이브/13/5.psd', '/mnt/f/paneah/dataset/캡틴 이브/13/6.psd', '/mnt/f/paneah/dataset/캡틴 이브/13/7.psd', '/mnt/f/paneah/dataset/캡틴 이브/13/8.psd', '/mnt/f/paneah/dataset/캡틴 이브/13/9.psd', '/mnt/f/paneah/dataset/캡틴 이브/13/10.psd', '/mnt/f/paneah/dataset/캡틴 이브/13/11.psd', '/mnt/f/paneah/dataset/캡틴 이브/13/12.psd', '/mnt/f/paneah/dataset/캡틴 이브/13/13.psd', '/mnt/f/paneah/dataset/캡틴 이브/13/14.psd', '/mnt/f/paneah/dataset/캡틴 이브/14/0.psd', '/mnt/f/paneah/dataset/캡틴 이브/14/1.psd', '/mnt/f/paneah/dataset/캡틴 이브/14/2.psd', '/mnt/f/paneah/dataset/캡틴 이브/14/3.psd', '/mnt/f/paneah/dataset/캡틴 이브/14/4.psd', '/mnt/f/paneah/dataset/캡틴 이브/14/5.psd', '/mnt/f/paneah/dataset/캡틴 이브/14/6.psd', '/mnt/f/paneah/dataset/캡틴 이브/14/7.psd', '/mnt/f/paneah/dataset/캡틴 이브/14/8.psd', '/mnt/f/paneah/dataset/캡틴 이브/14/9.psd', '/mnt/f/paneah/dataset/캡틴 이브/14/10.psd', '/mnt/f/paneah/dataset/캡틴 이브/14/11.psd', '/mnt/f/paneah/dataset/캡틴 이브/14/12.psd', '/mnt/f/paneah/dataset/캡틴 이브/14/13.psd', '/mnt/f/paneah/dataset/캡틴 이브/14/14.psd', '/mnt/f/paneah/dataset/캡틴 이브/14/15.psd', '/mnt/f/paneah/dataset/캡틴 이브/14/16.psd', '/mnt/f/paneah/dataset/캡틴 이브/15/0.psd', '/mnt/f/paneah/dataset/캡틴 이브/15/1.psd', '/mnt/f/paneah/dataset/캡틴 이브/15/2.psd', '/mnt/f/paneah/dataset/캡틴 이브/15/3.psd', '/mnt/f/paneah/dataset/캡틴 이브/15/4.psd', '/mnt/f/paneah/dataset/캡틴 이브/15/5.psd', '/mnt/f/paneah/dataset/캡틴 이브/15/6.psd', '/mnt/f/paneah/dataset/캡틴 이브/15/7.psd', '/mnt/f/paneah/dataset/캡틴 이브/15/8.psd', '/mnt/f/paneah/dataset/캡틴 이브/15/9.psd', '/mnt/f/paneah/dataset/캡틴 이브/15/10.psd', '/mnt/f/paneah/dataset/캡틴 이브/15/11.psd', '/mnt/f/paneah/dataset/캡틴 이브/15/12.psd', '/mnt/f/paneah/dataset/캡틴 이브/15/13.psd', '/mnt/f/paneah/dataset/캡틴 이브/15/14.psd', '/mnt/f/paneah/dataset/캡틴 이브/16/0.psd', '/mnt/f/paneah/dataset/캡틴 이브/16/1.psd', '/mnt/f/paneah/dataset/캡틴 이브/16/2.psd', '/mnt/f/paneah/dataset/캡틴 이브/16/3.psd', '/mnt/f/paneah/dataset/캡틴 이브/16/4.psd', '/mnt/f/paneah/dataset/캡틴 이브/16/5.psd', '/mnt/f/paneah/dataset/캡틴 이브/16/6.psd', '/mnt/f/paneah/dataset/캡틴 이브/16/7.psd', '/mnt/f/paneah/dataset/캡틴 이브/16/8.psd', '/mnt/f/paneah/dataset/캡틴 이브/16/9.psd', '/mnt/f/paneah/dataset/캡틴 이브/16/10.psd', '/mnt/f/paneah/dataset/캡틴 이브/16/11.psd', '/mnt/f/paneah/dataset/캡틴 이브/16/12.psd', '/mnt/f/paneah/dataset/캡틴 이브/16/13.psd', '/mnt/f/paneah/dataset/캡틴 이브/16/14.psd', '/mnt/f/paneah/dataset/캡틴 이브/17/0.psd', '/mnt/f/paneah/dataset/캡틴 이브/17/1.psd', '/mnt/f/paneah/dataset/캡틴 이브/17/2.psd', '/mnt/f/paneah/dataset/캡틴 이브/17/3.psd', '/mnt/f/paneah/dataset/캡틴 이브/17/4.psd', '/mnt/f/paneah/dataset/캡틴 이브/17/5.psd', '/mnt/f/paneah/dataset/캡틴 이브/17/6.psd', '/mnt/f/paneah/dataset/캡틴 이브/17/7.psd', '/mnt/f/paneah/dataset/캡틴 이브/17/8.psd', '/mnt/f/paneah/dataset/캡틴 이브/17/9.psd', '/mnt/f/paneah/dataset/캡틴 이브/17/10.psd', '/mnt/f/paneah/dataset/캡틴 이브/17/11.psd', '/mnt/f/paneah/dataset/캡틴 이브/17/12.psd', '/mnt/f/paneah/dataset/캡틴 이브/17/13.psd', '/mnt/f/paneah/dataset/캡틴 이브/18/0.psd', '/mnt/f/paneah/dataset/캡틴 이브/18/1.psd', '/mnt/f/paneah/dataset/캡틴 이브/18/2.psd', '/mnt/f/paneah/dataset/캡틴 이브/18/3.psd', '/mnt/f/paneah/dataset/캡틴 이브/18/4.psd', '/mnt/f/paneah/dataset/캡틴 이브/18/5.psd', '/mnt/f/paneah/dataset/캡틴 이브/18/6.psd', '/mnt/f/paneah/dataset/캡틴 이브/18/7.psd', '/mnt/f/paneah/dataset/캡틴 이브/18/8.psd', '/mnt/f/paneah/dataset/캡틴 이브/18/9.psd', '/mnt/f/paneah/dataset/캡틴 이브/18/10.psd', '/mnt/f/paneah/dataset/캡틴 이브/18/11.psd', '/mnt/f/paneah/dataset/캡틴 이브/18/12.psd', '/mnt/f/paneah/dataset/캡틴 이브/18/13.psd', '/mnt/f/paneah/dataset/캡틴 이브/18/14.psd', '/mnt/f/paneah/dataset/캡틴 이브/18/15.psd', '/mnt/f/paneah/dataset/캡틴 이브/18/16.psd', '/mnt/f/paneah/dataset/캡틴 이브/18/17.psd', '/mnt/f/paneah/dataset/캡틴 이브/19/0.psd', '/mnt/f/paneah/dataset/캡틴 이브/19/1.psd', '/mnt/f/paneah/dataset/캡틴 이브/19/2.psd', '/mnt/f/paneah/dataset/캡틴 이브/19/3.psd', '/mnt/f/paneah/dataset/캡틴 이브/19/4.psd', '/mnt/f/paneah/dataset/캡틴 이브/19/5.psd', '/mnt/f/paneah/dataset/캡틴 이브/19/6.psd', '/mnt/f/paneah/dataset/캡틴 이브/19/7.psd', '/mnt/f/paneah/dataset/캡틴 이브/19/8.psd', '/mnt/f/paneah/dataset/캡틴 이브/19/9.psd', '/mnt/f/paneah/dataset/캡틴 이브/19/10.psd', '/mnt/f/paneah/dataset/캡틴 이브/19/11.psd', '/mnt/f/paneah/dataset/캡틴 이브/19/12.psd', '/mnt/f/paneah/dataset/캡틴 이브/19/13.psd', '/mnt/f/paneah/dataset/캡틴 이브/20/0.psd', '/mnt/f/paneah/dataset/캡틴 이브/20/1.psd', '/mnt/f/paneah/dataset/캡틴 이브/20/2.psd', '/mnt/f/paneah/dataset/캡틴 이브/20/3.psd', '/mnt/f/paneah/dataset/캡틴 이브/20/4.psd', '/mnt/f/paneah/dataset/캡틴 이브/20/5.psd', '/mnt/f/paneah/dataset/캡틴 이브/20/6.psd', '/mnt/f/paneah/dataset/캡틴 이브/20/7.psd', '/mnt/f/paneah/dataset/캡틴 이브/20/8.psd', '/mnt/f/paneah/dataset/캡틴 이브/20/9.psd', '/mnt/f/paneah/dataset/캡틴 이브/20/10.psd', '/mnt/f/paneah/dataset/캡틴 이브/20/11.psd', '/mnt/f/paneah/dataset/캡틴 이브/20/12.psd', '/mnt/f/paneah/dataset/캡틴 이브/20/13.psd', '/mnt/f/paneah/dataset/캡틴 이브/20/14.psd', '/mnt/f/paneah/dataset/캡틴 이브/21/0.psd', '/mnt/f/paneah/dataset/캡틴 이브/21/1.psd', '/mnt/f/paneah/dataset/캡틴 이브/21/2.psd', '/mnt/f/paneah/dataset/캡틴 이브/21/3.psd', '/mnt/f/paneah/dataset/캡틴 이브/21/4.psd', '/mnt/f/paneah/dataset/캡틴 이브/21/5.psd', '/mnt/f/paneah/dataset/캡틴 이브/21/6.psd', '/mnt/f/paneah/dataset/캡틴 이브/21/7.psd', '/mnt/f/paneah/dataset/캡틴 이브/21/8.psd', '/mnt/f/paneah/dataset/캡틴 이브/21/9.psd', '/mnt/f/paneah/dataset/캡틴 이브/21/10.psd', '/mnt/f/paneah/dataset/캡틴 이브/21/11.psd', '/mnt/f/paneah/dataset/캡틴 이브/21/12.psd', '/mnt/f/paneah/dataset/캡틴 이브/21/13.psd', '/mnt/f/paneah/dataset/캡틴 이브/22/0.psd', '/mnt/f/paneah/dataset/캡틴 이브/22/1.psd', '/mnt/f/paneah/dataset/캡틴 이브/22/2.psd', '/mnt/f/paneah/dataset/캡틴 이브/22/3.psd', '/mnt/f/paneah/dataset/캡틴 이브/22/4.psd', '/mnt/f/paneah/dataset/캡틴 이브/22/5.psd', '/mnt/f/paneah/dataset/캡틴 이브/22/6.psd', '/mnt/f/paneah/dataset/캡틴 이브/22/7.psd', '/mnt/f/paneah/dataset/캡틴 이브/22/8.psd', '/mnt/f/paneah/dataset/캡틴 이브/22/9.psd', '/mnt/f/paneah/dataset/캡틴 이브/22/10.psd', '/mnt/f/paneah/dataset/캡틴 이브/22/12.psd', '/mnt/f/paneah/dataset/캡틴 이브/23/0.psd', '/mnt/f/paneah/dataset/캡틴 이브/23/1.psd', '/mnt/f/paneah/dataset/캡틴 이브/23/2.psd', '/mnt/f/paneah/dataset/캡틴 이브/23/3.psd', '/mnt/f/paneah/dataset/캡틴 이브/23/4.psd', '/mnt/f/paneah/dataset/캡틴 이브/23/5.psd', '/mnt/f/paneah/dataset/캡틴 이브/23/6.psd', '/mnt/f/paneah/dataset/캡틴 이브/23/7.psd', '/mnt/f/paneah/dataset/캡틴 이브/23/8.psd', '/mnt/f/paneah/dataset/캡틴 이브/23/9.psd', '/mnt/f/paneah/dataset/캡틴 이브/23/10.psd', '/mnt/f/paneah/dataset/캡틴 이브/23/11.psd', '/mnt/f/paneah/dataset/캡틴 이브/23/12.psd', '/mnt/f/paneah/dataset/캡틴 이브/24/0.psd', '/mnt/f/paneah/dataset/캡틴 이브/24/1.psd', '/mnt/f/paneah/dataset/캡틴 이브/24/2.psd', '/mnt/f/paneah/dataset/캡틴 이브/24/3.psd', '/mnt/f/paneah/dataset/캡틴 이브/24/4.psd', '/mnt/f/paneah/dataset/캡틴 이브/24/5.psd', '/mnt/f/paneah/dataset/캡틴 이브/24/6.psd', '/mnt/f/paneah/dataset/캡틴 이브/24/7.psd', '/mnt/f/paneah/dataset/캡틴 이브/24/8.psd', '/mnt/f/paneah/dataset/캡틴 이브/24/9.psd', '/mnt/f/paneah/dataset/캡틴 이브/24/10.psd', '/mnt/f/paneah/dataset/캡틴 이브/24/11.psd', '/mnt/f/paneah/dataset/캡틴 이브/24/12.psd', '/mnt/f/paneah/dataset/캡틴 이브/24/13.psd', '/mnt/f/paneah/dataset/캡틴 이브/24/14.psd', '/mnt/f/paneah/dataset/캡틴 이브/25/0.psd', '/mnt/f/paneah/dataset/캡틴 이브/25/1.psd', '/mnt/f/paneah/dataset/캡틴 이브/25/2.psd', '/mnt/f/paneah/dataset/캡틴 이브/25/3.psd', '/mnt/f/paneah/dataset/캡틴 이브/25/4.psd', '/mnt/f/paneah/dataset/캡틴 이브/25/5.psd', '/mnt/f/paneah/dataset/캡틴 이브/25/6.psd', '/mnt/f/paneah/dataset/캡틴 이브/25/7.psd', '/mnt/f/paneah/dataset/캡틴 이브/25/8.psd', '/mnt/f/paneah/dataset/캡틴 이브/25/9.psd', '/mnt/f/paneah/dataset/캡틴 이브/25/10.psd', '/mnt/f/paneah/dataset/캡틴 이브/25/11.psd', '/mnt/f/paneah/dataset/캡틴 이브/25/12.psd', '/mnt/f/paneah/dataset/캡틴 이브/25/13.psd', '/mnt/f/paneah/dataset/캡틴 이브/25/14.psd', '/mnt/f/paneah/dataset/캡틴 이브/25/15.psd', '/mnt/f/paneah/dataset/캡틴 이브/25/16.psd', '/mnt/f/paneah/dataset/캡틴 이브/26/0.psd', '/mnt/f/paneah/dataset/캡틴 이브/26/1.psd', '/mnt/f/paneah/dataset/캡틴 이브/26/2.psd', '/mnt/f/paneah/dataset/캡틴 이브/26/3.psd', '/mnt/f/paneah/dataset/캡틴 이브/26/4.psd', '/mnt/f/paneah/dataset/캡틴 이브/26/5.psd', '/mnt/f/paneah/dataset/캡틴 이브/26/6.psd', '/mnt/f/paneah/dataset/캡틴 이브/26/7.psd', '/mnt/f/paneah/dataset/캡틴 이브/26/8.psd', '/mnt/f/paneah/dataset/캡틴 이브/26/9.psd', '/mnt/f/paneah/dataset/캡틴 이브/26/10.psd', '/mnt/f/paneah/dataset/캡틴 이브/26/11.psd', '/mnt/f/paneah/dataset/캡틴 이브/26/12.psd', '/mnt/f/paneah/dataset/캡틴 이브/26/13.psd', '/mnt/f/paneah/dataset/캡틴 이브/27/0.psd', '/mnt/f/paneah/dataset/캡틴 이브/27/1.psd', '/mnt/f/paneah/dataset/캡틴 이브/27/2.psd', '/mnt/f/paneah/dataset/캡틴 이브/27/3.psd', '/mnt/f/paneah/dataset/캡틴 이브/27/4.psd', '/mnt/f/paneah/dataset/캡틴 이브/27/5.psd', '/mnt/f/paneah/dataset/캡틴 이브/27/6.psd', '/mnt/f/paneah/dataset/캡틴 이브/27/7.psd', '/mnt/f/paneah/dataset/캡틴 이브/27/8.psd', '/mnt/f/paneah/dataset/캡틴 이브/27/9.psd', '/mnt/f/paneah/dataset/캡틴 이브/27/10.psd', '/mnt/f/paneah/dataset/캡틴 이브/27/11.psd', '/mnt/f/paneah/dataset/캡틴 이브/27/12.psd', '/mnt/f/paneah/dataset/캡틴 이브/27/13.psd', '/mnt/f/paneah/dataset/캡틴 이브/27/14.psd', '/mnt/f/paneah/dataset/캡틴 이브/27/15.psd', '/mnt/f/paneah/dataset/캡틴 이브/28/0.psd', '/mnt/f/paneah/dataset/캡틴 이브/28/1.psd', '/mnt/f/paneah/dataset/캡틴 이브/28/2.psd', '/mnt/f/paneah/dataset/캡틴 이브/28/3.psd', '/mnt/f/paneah/dataset/캡틴 이브/28/4.psd', '/mnt/f/paneah/dataset/캡틴 이브/28/5.psd', '/mnt/f/paneah/dataset/캡틴 이브/28/6.psd', '/mnt/f/paneah/dataset/캡틴 이브/28/7.psd', '/mnt/f/paneah/dataset/캡틴 이브/28/8.psd', '/mnt/f/paneah/dataset/캡틴 이브/28/9.psd', '/mnt/f/paneah/dataset/캡틴 이브/28/10.psd', '/mnt/f/paneah/dataset/캡틴 이브/28/11.psd', '/mnt/f/paneah/dataset/캡틴 이브/28/12.psd', '/mnt/f/paneah/dataset/캡틴 이브/28/13.psd', '/mnt/f/paneah/dataset/캡틴 이브/29/0.psd', '/mnt/f/paneah/dataset/캡틴 이브/29/1.psd', '/mnt/f/paneah/dataset/캡틴 이브/29/2.psd', '/mnt/f/paneah/dataset/캡틴 이브/29/3.psd', '/mnt/f/paneah/dataset/캡틴 이브/29/4.psd', '/mnt/f/paneah/dataset/캡틴 이브/29/5.psd', '/mnt/f/paneah/dataset/캡틴 이브/29/6.psd', '/mnt/f/paneah/dataset/캡틴 이브/29/7.psd', '/mnt/f/paneah/dataset/캡틴 이브/29/8.psd', '/mnt/f/paneah/dataset/캡틴 이브/29/9.psd', '/mnt/f/paneah/dataset/캡틴 이브/29/10.psd', '/mnt/f/paneah/dataset/캡틴 이브/29/11.psd', '/mnt/f/paneah/dataset/캡틴 이브/29/12.psd', '/mnt/f/paneah/dataset/캡틴 이브/29/13.psd', '/mnt/f/paneah/dataset/캡틴 이브/29/14.psd', '/mnt/f/paneah/dataset/캡틴 이브/30/0.psd', '/mnt/f/paneah/dataset/캡틴 이브/30/1.psd', '/mnt/f/paneah/dataset/캡틴 이브/30/2.psd', '/mnt/f/paneah/dataset/캡틴 이브/30/3.psd', '/mnt/f/paneah/dataset/캡틴 이브/30/4.psd', '/mnt/f/paneah/dataset/캡틴 이브/30/5.psd', '/mnt/f/paneah/dataset/캡틴 이브/30/6.psd', '/mnt/f/paneah/dataset/캡틴 이브/30/7.psd', '/mnt/f/paneah/dataset/캡틴 이브/30/8.psd', '/mnt/f/paneah/dataset/캡틴 이브/30/9.psd', '/mnt/f/paneah/dataset/캡틴 이브/30/10.psd', '/mnt/f/paneah/dataset/캡틴 이브/30/11.psd', '/mnt/f/paneah/dataset/캡틴 이브/30/12.psd', '/mnt/f/paneah/dataset/캡틴 이브/30/13.psd', '/mnt/f/paneah/dataset/캡틴 이브/31/0.psd', '/mnt/f/paneah/dataset/캡틴 이브/31/1.psd', '/mnt/f/paneah/dataset/캡틴 이브/31/2.psd', '/mnt/f/paneah/dataset/캡틴 이브/31/3.psd', '/mnt/f/paneah/dataset/캡틴 이브/31/4.psd', '/mnt/f/paneah/dataset/캡틴 이브/31/5.psd', '/mnt/f/paneah/dataset/캡틴 이브/31/6.psd', '/mnt/f/paneah/dataset/캡틴 이브/31/7.psd', '/mnt/f/paneah/dataset/캡틴 이브/31/8.psd', '/mnt/f/paneah/dataset/캡틴 이브/31/9.psd', '/mnt/f/paneah/dataset/캡틴 이브/31/10.psd', '/mnt/f/paneah/dataset/캡틴 이브/31/11.psd', '/mnt/f/paneah/dataset/캡틴 이브/31/12.psd', '/mnt/f/paneah/dataset/캡틴 이브/32/0.psd', '/mnt/f/paneah/dataset/캡틴 이브/32/1.psd', '/mnt/f/paneah/dataset/캡틴 이브/32/2.psd', '/mnt/f/paneah/dataset/캡틴 이브/32/3.psd', '/mnt/f/paneah/dataset/캡틴 이브/32/4.psd', '/mnt/f/paneah/dataset/캡틴 이브/32/5.psd', '/mnt/f/paneah/dataset/캡틴 이브/32/6.psd', '/mnt/f/paneah/dataset/캡틴 이브/32/7.psd', '/mnt/f/paneah/dataset/캡틴 이브/32/8.psd', '/mnt/f/paneah/dataset/캡틴 이브/32/9.psd', '/mnt/f/paneah/dataset/캡틴 이브/32/10.psd', '/mnt/f/paneah/dataset/캡틴 이브/32/11.psd', '/mnt/f/paneah/dataset/캡틴 이브/32/12.psd', '/mnt/f/paneah/dataset/캡틴 이브/32/13.psd', '/mnt/f/paneah/dataset/캡틴 이브/33/0.psd', '/mnt/f/paneah/dataset/캡틴 이브/33/1.psd', '/mnt/f/paneah/dataset/캡틴 이브/33/2.psd', '/mnt/f/paneah/dataset/캡틴 이브/33/3.psd', '/mnt/f/paneah/dataset/캡틴 이브/33/4.psd', '/mnt/f/paneah/dataset/캡틴 이브/33/5.psd', '/mnt/f/paneah/dataset/캡틴 이브/33/6.psd', '/mnt/f/paneah/dataset/캡틴 이브/33/7.psd', '/mnt/f/paneah/dataset/캡틴 이브/33/8.psd', '/mnt/f/paneah/dataset/캡틴 이브/33/9.psd', '/mnt/f/paneah/dataset/캡틴 이브/33/10.psd', '/mnt/f/paneah/dataset/캡틴 이브/33/11.psd', '/mnt/f/paneah/dataset/캡틴 이브/33/12.psd', '/mnt/f/paneah/dataset/캡틴 이브/33/13.psd', '/mnt/f/paneah/dataset/캡틴 이브/34/0.psd', '/mnt/f/paneah/dataset/캡틴 이브/34/1.psd', '/mnt/f/paneah/dataset/캡틴 이브/34/2.psd', '/mnt/f/paneah/dataset/캡틴 이브/34/3.psd', '/mnt/f/paneah/dataset/캡틴 이브/34/4.psd', '/mnt/f/paneah/dataset/캡틴 이브/34/5.psd', '/mnt/f/paneah/dataset/캡틴 이브/34/6.psd', '/mnt/f/paneah/dataset/캡틴 이브/34/7.psd', '/mnt/f/paneah/dataset/캡틴 이브/34/8.psd', '/mnt/f/paneah/dataset/캡틴 이브/34/9.psd', '/mnt/f/paneah/dataset/캡틴 이브/34/10.psd', '/mnt/f/paneah/dataset/캡틴 이브/34/11.psd', '/mnt/f/paneah/dataset/캡틴 이브/34/12.psd', '/mnt/f/paneah/dataset/캡틴 이브/34/13.psd', '/mnt/f/paneah/dataset/캡틴 이브/34/14.psd', '/mnt/f/paneah/dataset/캡틴 이브/34/15.psd', '/mnt/f/paneah/dataset/캡틴 이브/35/0.psd', '/mnt/f/paneah/dataset/캡틴 이브/35/1.psd', '/mnt/f/paneah/dataset/캡틴 이브/35/2.psd', '/mnt/f/paneah/dataset/캡틴 이브/35/4.psd', '/mnt/f/paneah/dataset/캡틴 이브/35/5.psd', '/mnt/f/paneah/dataset/캡틴 이브/35/6.psd', '/mnt/f/paneah/dataset/캡틴 이브/35/7.psd', '/mnt/f/paneah/dataset/캡틴 이브/35/8.psd', '/mnt/f/paneah/dataset/캡틴 이브/35/9.psd', '/mnt/f/paneah/dataset/캡틴 이브/35/10.psd', '/mnt/f/paneah/dataset/캡틴 이브/35/11.psd', '/mnt/f/paneah/dataset/캡틴 이브/35/12.psd', '/mnt/f/paneah/dataset/캡틴 이브/35/13.psd', '/mnt/f/paneah/dataset/캡틴 이브/35/14.psd', 'psd', '']\n"
     ]
    }
   ],
   "source": [
    "with open(\"/home/paneah/psd-converter/temp/comb.txt\", \"r+\") as f:\n",
    "    comb = f.read()\n",
    "    comb = comb.split(\"\\n\")\n",
    "\n",
    "print(comb)"
   ]
  }
 ],
 "metadata": {
  "kernelspec": {
   "display_name": "danbooru",
   "language": "python",
   "name": "python3"
  },
  "language_info": {
   "codemirror_mode": {
    "name": "ipython",
    "version": 3
   },
   "file_extension": ".py",
   "mimetype": "text/x-python",
   "name": "python",
   "nbconvert_exporter": "python",
   "pygments_lexer": "ipython3",
   "version": "3.8.19"
  }
 },
 "nbformat": 4,
 "nbformat_minor": 2
}
