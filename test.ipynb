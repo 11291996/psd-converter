{
 "cells": [
  {
   "cell_type": "code",
   "execution_count": 79,
   "metadata": {},
   "outputs": [
    {
     "name": "stdout",
     "output_type": "stream",
     "text": [
      "001 ['1-1.psd', '1-10.psd', '1-11.psd', '1-12.psd', '1-2.psd', '1-3.psd', '1-4.psd', '1-5.psd', '1-6.psd', '1-7.psd', '1-8.psd', '1-9.psd']\n",
      "002 ['2-1.psd', '2-10.psd', '2-2.psd', '2-3.psd', '2-4.psd', '2-5.psd', '2-6.psd', '2-7.psd', '2-8.psd', '2-9.psd']\n",
      "003 ['3-1.psd', '3-2.psd', '3-3.psd', '3-4.psd', '3-5.psd', '3-6.psd', '3-7.psd', '3-8.psd']\n",
      "004 ['4-1.psd', '4-10.psd', '4-11.psd', '4-2.psd', '4-3.psd', '4-4.psd', '4-5.psd', '4-6.psd', '4-7.psd', '4-8.psd', '4-9.psd']\n",
      "005 ['5-1.psd', '5-10.psd', '5-11.psd', '5-2.psd', '5-3.psd', '5-4.psd', '5-5.psd', '5-6.psd', '5-7.psd', '5-8.psd', '5-9.psd']\n",
      "006 ['6-1.psd', '6-10.psd', '6-11.psd', '6-12.psd', '6-13.psd', '6-2.psd', '6-3.psd', '6-4.psd', '6-5.psd', '6-6.psd', '6-7.psd', '6-8.psd', '6-9.psd']\n",
      "007 ['1.psd', '10.psd', '11.psd', '12.psd', '2.psd', '3.psd', '4.psd', '5.psd', '6.psd', '7.psd', '8.psd', '9.psd']\n",
      "008 ['1.psd', '2.psd', '3.psd', '4.psd', '5.psd', '6.psd', '7.psd', '8.psd', '9.psd']\n",
      "009 ['1.psd', '10.psd', '11.psd', '2.psd', '3.psd', '4.psd', '5.psd', '6.psd', '7.psd', '8.psd', '9.psd']\n",
      "010 ['1.psd', '10.psd', '2.psd', '3.psd', '4.psd', '5.psd', '6.psd', '7.psd', '8.psd', '9.psd']\n",
      "011 ['1.psd', '2.psd', '3.psd', '4.psd', '5.psd', '6s.psd', '7.psd', '8.psd', '9.psd']\n",
      "012 ['1.psd', '2.psd', '3.psd', '4.psd', '5.psd', '6.psd', '7.psd', '8.psd', '9.psd']\n",
      "013 ['1.psd']\n",
      "014 ['1.psd', '2.psd', '3.psd', '4.psd', '5.psd', '6.psd', '7.psd', '8.psd', '9.psd']\n",
      "015 ['1.psd', '2.psd', '3.psb', '3.psd', '4.psd', '5.psb', '5.psd', '6.psd', '7.psd', '8.psd']\n",
      "016 ['1.psd', '10.psd', '11.psd', '12.psd', '13.psd', '2.psd', '3.psd', '4.psd', '5.psd', '6.psd', '7.psd', '8.psd', '9.psd']\n",
      "017 ['1.psd', '10.psd', '11.psd', '12.psd', '2.psd', '3.psd', '4.psd', '5.psd', '6.psd', '7.psd', '8.psd', '9.psd']\n",
      "018 ['1.psd', '10.psd', '2.psd', '3.psd', '4.psd', '5.psd', '6.psd', '7.psd', '8.psd', '9.psd']\n",
      "019 ['1.psd', '10.psd', '11.psd', '12.psd', '2.psd', '3.psd', '4.psd', '5.psd', '6.psd', '7.psd', '8.psd', '9.psd']\n",
      "020 ['1.psd', '10.psd', '11.psd', '12.psd', '2.psd', '3.psd', '4.psd', '5.psd', '6.psd', '7.psd', '8.psd', '9.psd']\n",
      "021 ['1.psd', '10.psd', '11.psd', '2.psd', '3.psd', '4.psd', '5.psd', '6.psd', '7.psd', '8.psd', '9.psd']\n",
      "022 ['1.psd', '10.psd', '11.psd', '12.psd', '2.psd', '3.psd', '4.psd', '5.psd', '6.psd', '7.psd', '8.psd', '9.psd']\n",
      "023 ['1.psd', '10.psd', '11.psd', '2.psd', '3.psd', '4.psd', '5.psd', '6.psd', '8.psd', '9.psd']\n",
      "024 ['1.psd', '10改.psd', '11.psd', '12.psd', '2.psd', '3改.psd', '4.psd', '4s.psd', '5.psd', '6.psd', '7.psd', '8.psd', '9.psd', '던전 24 PSD 수정']\n",
      "025 ['1.psd', '10.psd', '11.psd', '12.psd', '13.psd', '2.psd', '3.psd', '4.psd', '5.psd', '6.psd', '7.psd', '8.psd', '9.psd']\n",
      "026 ['1.psd', '10.psd', '11.psd', '12.psd', '13.psd', '14.psd', '15.psd', '2.psd', '3.psd', '4.psd', '5.psd', '6.psd', '7.psd', '8.psd', '9.psd']\n",
      "027 ['1.psb', '2.psb', '3.psb', '4.psb', '5.psb', '6.psb']\n",
      "028 ['1.psb', '2.psb', '3.psb', '4.psb', '5.psb', '6.psb', '7.psb']\n",
      "029 ['1.psd', '2.psd', '3.psd', '4.psd', '5.psd', '6.psd', '7.psd', '8.psd']\n",
      "030 ['그 던전의 S급 시한부 영애_29화_001.psb', '그 던전의 S급 시한부 영애_29화_002.psb', '그 던전의 S급 시한부 영애_29화_003.psb', '그 던전의 S급 시한부 영애_29화_004.psb', '그 던전의 S급 시한부 영애_29화_005.psb', '그 던전의 S급 시한부 영애_29화_006.psb', '그 던전의 S급 시한부 영애_29화_007.psb', '그 던전의 S급 시한부 영애_29화_008.psd']\n",
      "031 ['그 던전의 S급 시한부 영애_30화_001.psb', '그 던전의 S급 시한부 영애_30화_002.psb', '그 던전의 S급 시한부 영애_30화_003.psb', '그 던전의 S급 시한부 영애_30화_004.psb', '그 던전의 S급 시한부 영애_30화_005.psb', '그 던전의 S급 시한부 영애_30화_006.psb', '그 던전의 S급 시한부 영애_30화_007.psb', '그 던전의 S급 시한부 영애_30화_008.psb']\n",
      "032 ['그 던전의 S급 시한부 영애_32화_001.clip', '그 던전의 S급 시한부 영애_32화_002.clip', '그 던전의 S급 시한부 영애_32화_003.clip', '그 던전의 S급 시한부 영애_32화_004.clip', '그 던전의 S급 시한부 영애_32화_005.clip', '그 던전의 S급 시한부 영애_32화_006.clip', '그 던전의 S급 시한부 영애_32화_007.clip', '그 던전의 S급 시한부 영애_32화_008.clip']\n",
      "033 ['그 던전의 S급 시한부 영애_33화_001.psd', '그 던전의 S급 시한부 영애_33화_002.psd', '그 던전의 S급 시한부 영애_33화_003.psd', '그 던전의 S급 시한부 영애_33화_004.psd', '그 던전의 S급 시한부 영애_33화_006.clip', '그 던전의 S급 시한부 영애_33화_008.clip']\n"
     ]
    },
    {
     "data": {
      "text/plain": [
       "'\\nfor folders in os.listdir(path):\\n   for file in os.listdir(os.path.join(path, folders)): \\n       if not file.endswith(\".psd\"):\\n            os.system(f\"rm -rf \"{os.path.join(path, folders, file)}\"\")\\n'"
      ]
     },
     "execution_count": 79,
     "metadata": {},
     "output_type": "execute_result"
    }
   ],
   "source": [
    "path = \"/mnt/f/paneah/dataset/다온/그 던전의 S급 시한부 영애/그던전 원고 선화 (원본)\"\n",
    "new_path = \"/mnt/z/onomaai/data/clip/다온/제가 산건 땅이지 남자가 아닌데요\"\n",
    "#file = \"test.py\"\n",
    "\n",
    "import os \n",
    "\n",
    "#get all the psd files in the directory and its subdirectories\n",
    "\n",
    "def get_all_psd_files(path):\n",
    "    psd_files = []\n",
    "    for root, dirs, files in os.walk(path):\n",
    "        for file in files:\n",
    "            if file.endswith(\".psd\"):\n",
    "                psd_files.append(os.path.join(root, file))\n",
    "    return psd_files\n",
    "\n",
    "def get_all_clip_files(path):\n",
    "    clip_files = []\n",
    "    for root, dirs, files in os.walk(path):\n",
    "        for file in files:\n",
    "            if file.endswith(\".clip\"):\n",
    "                clip_files.append(os.path.join(root, file))\n",
    "    return clip_files\n",
    "\n",
    "#put psds in the new episode folders\n",
    "\n",
    "#all_psds = get_all_psd_files(path)\n",
    "\n",
    "#all_clips = get_all_clip_files(path)\n",
    "\n",
    "for folder in os.listdir(path):\n",
    "    print(folder, os.listdir(os.path.join(path, folder)))\n",
    "    \n",
    "\n",
    "\"\"\"\n",
    "for folders in os.listdir(path):\n",
    "   for file in os.listdir(os.path.join(path, folders)): \n",
    "       if not file.endswith(\".psd\"):\n",
    "            os.system(f\"rm -rf \\\"{os.path.join(path, folders, file)}\\\"\")\n",
    "\"\"\""
   ]
  },
  {
   "cell_type": "code",
   "execution_count": null,
   "metadata": {},
   "outputs": [],
   "source": [
    "from psd_tools import PSDImage\n",
    "\n",
    "#psb also works\n",
    "\n",
    "psd = PSDImage.open(\"/mnt/z/onomaai/data/psd/다온/그 던전의 S급 시한부 영애/line_psd/031/그 던전의 S급 시한부 영애_30화_001.psb\")"
   ]
  },
  {
   "cell_type": "code",
   "execution_count": null,
   "metadata": {},
   "outputs": [],
   "source": [
    "from main import get_pixel_layers_path\n",
    "import os \n",
    "\n",
    "folder_path = \"../test_data/test_folder/\"\n",
    "psd_list = [folder_path + file for file in os.listdir(folder_path)]\n",
    "\n",
    "def get_layers_from_list(psd_list: list[str]) -> list:\n",
    "    psd_layer_list_list = []\n",
    "    for psd_path in psd_list:\n",
    "        psd_layer_list_list.append(get_pixel_layers_path(psd_path))\n",
    "    return psd_layer_list_list\n",
    "\n",
    "layer_list_list = get_layers_from_list(psd_list)\n",
    "\n",
    "target_layer = layer_list_list[0][0]\n",
    "\n",
    "for layer_list in layer_list_list[1:]:\n",
    "    for layer in layer_list:\n",
    "        if layer.name == target_layer.name and layer.parent.name == target_layer.parent.name:\n",
    "            print(\"found\")\n",
    "            break\n",
    "    else:\n",
    "        print(\"not found\")\n",
    "        break"
   ]
  },
  {
   "cell_type": "code",
   "execution_count": 81,
   "metadata": {},
   "outputs": [
    {
     "name": "stdout",
     "output_type": "stream",
     "text": [
      "\n"
     ]
    }
   ],
   "source": [
    "with open(\"./temp/psd_path.txt\", \"r\") as f:\n",
    "    psd_path = f.read()\n",
    "    print(psd_path)\n",
    "    f.close()"
   ]
  }
 ],
 "metadata": {
  "kernelspec": {
   "display_name": "danbooru",
   "language": "python",
   "name": "python3"
  },
  "language_info": {
   "codemirror_mode": {
    "name": "ipython",
    "version": 3
   },
   "file_extension": ".py",
   "mimetype": "text/x-python",
   "name": "python",
   "nbconvert_exporter": "python",
   "pygments_lexer": "ipython3",
   "version": "3.8.19"
  }
 },
 "nbformat": 4,
 "nbformat_minor": 2
}
