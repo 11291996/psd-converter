{
 "cells": [
  {
   "cell_type": "code",
   "execution_count": 3,
   "metadata": {},
   "outputs": [],
   "source": [
    "path = \"/mnt/z/onomaai/data/psd/온달평강/1화 psd/\"\n",
    "\n",
    "import os\n",
    "from psd_tools import PSDImage\n",
    "\n",
    "file_list = os.listdir(path)\n",
    "\n",
    "from main import get_layer_tree\n",
    "\n",
    "for file in file_list:\n",
    "    psd = PSDImage.open(path + file)\n",
    "    print(get_layer_tree(psd))"
   ]
  },
  {
   "cell_type": "code",
   "execution_count": null,
   "metadata": {},
   "outputs": [],
   "source": [
    "from psd_tools import PSDImage\n",
    "\n",
    "#psb also works\n",
    "\n",
    "psd = PSDImage.open(\"/mnt/z/onomaai/data/psd/다온/그 던전의 S급 시한부 영애/line_psd/031/그 던전의 S급 시한부 영애_30화_001.psb\")"
   ]
  },
  {
   "cell_type": "code",
   "execution_count": null,
   "metadata": {},
   "outputs": [],
   "source": [
    "from main import get_pixel_layers_path\n",
    "import os \n",
    "\n",
    "folder_path = \"../test_data/test_folder/\"\n",
    "psd_list = [folder_path + file for file in os.listdir(folder_path)]\n",
    "\n",
    "def get_layers_from_list(psd_list: list[str]) -> list:\n",
    "    psd_layer_list_list = []\n",
    "    for psd_path in psd_list:\n",
    "        psd_layer_list_list.append(get_pixel_layers_path(psd_path))\n",
    "    return psd_layer_list_list\n",
    "\n",
    "layer_list_list = get_layers_from_list(psd_list)\n",
    "\n",
    "target_layer = layer_list_list[0][0]\n",
    "\n",
    "for layer_list in layer_list_list[1:]:\n",
    "    for layer in layer_list:\n",
    "        if layer.name == target_layer.name and layer.parent.name == target_layer.parent.name:\n",
    "            print(\"found\")\n",
    "            break\n",
    "    else:\n",
    "        print(\"not found\")\n",
    "        break"
   ]
  },
  {
   "cell_type": "code",
   "execution_count": null,
   "metadata": {},
   "outputs": [],
   "source": []
  }
 ],
 "metadata": {
  "kernelspec": {
   "display_name": "danbooru",
   "language": "python",
   "name": "python3"
  },
  "language_info": {
   "codemirror_mode": {
    "name": "ipython",
    "version": 3
   },
   "file_extension": ".py",
   "mimetype": "text/x-python",
   "name": "python",
   "nbconvert_exporter": "python",
   "pygments_lexer": "ipython3",
   "version": "3.8.19"
  }
 },
 "nbformat": 4,
 "nbformat_minor": 2
}
