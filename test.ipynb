{
 "cells": [
  {
   "cell_type": "code",
   "execution_count": null,
   "metadata": {},
   "outputs": [],
   "source": [
    "path = \"/mnt/z/onomaai/data/psd/다온/그 던전의 S급 시한부 영애/line_psd/\"\n",
    "\n",
    "import os \n",
    "\n",
    "file_list = os.listdir(path)\n",
    "\n",
    "\"\"\"\n",
    "for idx, file in enumerate(file_list):\n",
    "    os.system(f\"mv \\\"{path}{file}\\\" \\\"{path}{idx}\\\"\")\n",
    "\"\"\"\n",
    "\n",
    "for file in file_list:\n",
    "    page_list = os.listdir(f\"{path}/{file}\")\n",
    "    for idx, page in enumerate(page_list):\n",
    "        os.system(f\"mv \\\"{path}{file}/{page}\\\" \\\"{path}{file}/{idx + 1}.psd\\\"\")"
   ]
  },
  {
   "cell_type": "code",
   "execution_count": null,
   "metadata": {},
   "outputs": [],
   "source": [
    "from psd_tools import PSDImage\n",
    "\n",
    "#psb also works\n",
    "\n",
    "psd = PSDImage.open(\"/mnt/z/onomaai/data/psd/다온/그 던전의 S급 시한부 영애/line_psd/031/그 던전의 S급 시한부 영애_30화_001.psb\")"
   ]
  },
  {
   "cell_type": "code",
   "execution_count": 11,
   "metadata": {},
   "outputs": [
    {
     "name": "stdout",
     "output_type": "stream",
     "text": [
      "found\n"
     ]
    }
   ],
   "source": [
    "from main import get_pixel_layers_path\n",
    "import os \n",
    "\n",
    "folder_path = \"../test_data/test_folder/\"\n",
    "psd_list = [folder_path + file for file in os.listdir(folder_path)]\n",
    "\n",
    "def get_layers_from_list(psd_list: list[str]) -> list:\n",
    "    psd_layer_list_list = []\n",
    "    for psd_path in psd_list:\n",
    "        psd_layer_list_list.append(get_pixel_layers_path(psd_path))\n",
    "    return psd_layer_list_list\n",
    "\n",
    "layer_list_list = get_layers_from_list(psd_list)\n",
    "\n",
    "target_layer = layer_list_list[0][0]\n",
    "\n",
    "for layer_list in layer_list_list[1:]:\n",
    "    for layer in layer_list:\n",
    "        if layer.name == target_layer.name and layer.parent.name == target_layer.parent.name:\n",
    "            print(\"found\")\n",
    "            break\n",
    "    else:\n",
    "        print(\"not found\")\n",
    "        break"
   ]
  },
  {
   "cell_type": "code",
   "execution_count": 14,
   "metadata": {},
   "outputs": [
    {
     "name": "stdout",
     "output_type": "stream",
     "text": [
      "용지\n",
      "bgc\n",
      "bg\n",
      "bgt\n",
      "bgt2\n",
      "bgl\n",
      "tx\n",
      "bgo\n",
      "bgl2\n",
      "bgl3\n",
      "bgl4\n",
      "집중선\n",
      "c\n",
      "2\n",
      "3\n",
      "brush1\n",
      "touch\n",
      "hi\n",
      "잡\n",
      "p1\n",
      "et\n",
      "tx\n",
      "tx2\n",
      "tx3\n",
      "tx4\n",
      "light2\n",
      "light1\n",
      "light3\n",
      "light4\n",
      "light5\n",
      "light6\n",
      "light7\n",
      "집중선\n",
      "f\n"
     ]
    }
   ],
   "source": [
    "from psd_tools import PSDImage\n",
    "\n",
    "def get_pixel_layers(psd):\n",
    "    pixel_layers = []\n",
    "    for layer in psd._layers:\n",
    "        if layer.is_group():\n",
    "            pixel_layers.extend(get_pixel_layers(layer))\n",
    "        else:\n",
    "            pixel_layers.append(layer)\n",
    "    return pixel_layers\n",
    "\n",
    "def get_pixel_layers_path(psd_path: str) -> list:\n",
    "    psd = PSDImage.open(psd_path)\n",
    "    return get_pixel_layers(psd)\n",
    "\n",
    "path1 = \"/home/paneah/auto_clipimage_conversion/test_data/test_folder/page0001.psd\"\n",
    "path2 = \"/home/paneah/auto_clipimage_conversion/test_data/test_folder/page0003.psd\" \n",
    "\n",
    "pixel_layers1 = get_pixel_layers_path(path1)\n",
    "pixel_layers2 = get_pixel_layers_path(path2)\n",
    "\n",
    "for layer1 in pixel_layers1:\n",
    "    for layer2 in pixel_layers2:\n",
    "        if layer1.name == layer2.name and layer1.parent.name == layer2.parent.name:\n",
    "            print(layer1.name)"
   ]
  }
 ],
 "metadata": {
  "kernelspec": {
   "display_name": "danbooru",
   "language": "python",
   "name": "python3"
  },
  "language_info": {
   "codemirror_mode": {
    "name": "ipython",
    "version": 3
   },
   "file_extension": ".py",
   "mimetype": "text/x-python",
   "name": "python",
   "nbconvert_exporter": "python",
   "pygments_lexer": "ipython3",
   "version": "3.8.19"
  }
 },
 "nbformat": 4,
 "nbformat_minor": 2
}
